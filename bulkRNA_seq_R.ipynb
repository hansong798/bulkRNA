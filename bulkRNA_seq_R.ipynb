{
  "nbformat": 4,
  "nbformat_minor": 0,
  "metadata": {
    "colab": {
      "provenance": [],
      "gpuType": "T4",
      "authorship_tag": "ABX9TyNib1Zn3gp1ArfxeLHHflZN",
      "include_colab_link": true
    },
    "kernelspec": {
      "name": "ir",
      "display_name": "R"
    },
    "language_info": {
      "name": "R"
    },
    "accelerator": "GPU"
  },
  "cells": [
    {
      "cell_type": "markdown",
      "metadata": {
        "id": "view-in-github",
        "colab_type": "text"
      },
      "source": [
        "<a href=\"https://colab.research.google.com/github/hansong798/bulkRNAseq-analysis-PNU-workshop/blob/main/bulkRNA_seq_R.ipynb\" target=\"_parent\"><img src=\"https://colab.research.google.com/assets/colab-badge.svg\" alt=\"Open In Colab\"/></a>"
      ]
    },
    {
      "cell_type": "markdown",
      "source": [
        "# **Install required packages**\n",
        "약 10분 소요 예상"
      ],
      "metadata": {
        "id": "HrGZU7HMFp93"
      }
    },
    {
      "cell_type": "code",
      "execution_count": null,
      "metadata": {
        "colab": {
          "base_uri": "https://localhost:8080/"
        },
        "id": "nbXBBHOlsolv",
        "outputId": "51d9d235-6255-4cde-b52a-157f6d6e28f4"
      },
      "outputs": [
        {
          "output_type": "stream",
          "name": "stderr",
          "text": [
            "Installing package into ‘/usr/local/lib/R/site-library’\n",
            "(as ‘lib’ is unspecified)\n",
            "\n"
          ]
        }
      ],
      "source": [
        "install.packages(\"BiocManager\")"
      ]
    },
    {
      "cell_type": "code",
      "source": [
        "BiocManager::install(\"biomaRt\")   # ~3 min"
      ],
      "metadata": {
        "colab": {
          "base_uri": "https://localhost:8080/"
        },
        "id": "bbqQXffj7L4N",
        "outputId": "374ad964-6590-4397-beaa-1079bbf004b2"
      },
      "execution_count": null,
      "outputs": [
        {
          "output_type": "stream",
          "name": "stderr",
          "text": [
            "'getOption(\"repos\")' replaces Bioconductor standard repositories, see\n",
            "'help(\"repositories\", package = \"BiocManager\")' for details.\n",
            "Replacement repositories:\n",
            "    CRAN: https://cran.rstudio.com\n",
            "\n",
            "Bioconductor version 3.20 (BiocManager 1.30.25), R 4.4.2 (2024-10-31)\n",
            "\n",
            "Installing package(s) 'biomaRt'\n",
            "\n",
            "also installing the dependencies ‘XVector’, ‘GenomeInfoDb’, ‘Biostrings’, ‘IRanges’, ‘KEGGREST’, ‘AnnotationDbi’\n",
            "\n",
            "\n"
          ]
        }
      ]
    },
    {
      "cell_type": "code",
      "source": [
        "BiocManager::install(\"DESeq2\") # ~3 min"
      ],
      "metadata": {
        "colab": {
          "base_uri": "https://localhost:8080/"
        },
        "id": "BN0QRMQz8nFl",
        "outputId": "75133269-2789-46fc-a46e-66f5582a9008"
      },
      "execution_count": null,
      "outputs": [
        {
          "output_type": "stream",
          "name": "stderr",
          "text": [
            "'getOption(\"repos\")' replaces Bioconductor standard repositories, see\n",
            "'help(\"repositories\", package = \"BiocManager\")' for details.\n",
            "Replacement repositories:\n",
            "    CRAN: https://cran.rstudio.com\n",
            "\n",
            "Bioconductor version 3.20 (BiocManager 1.30.25), R 4.4.2 (2024-10-31)\n",
            "\n",
            "Installing package(s) 'DESeq2'\n",
            "\n",
            "also installing the dependencies ‘abind’, ‘SparseArray’, ‘S4Arrays’, ‘DelayedArray’, ‘GenomicRanges’, ‘SummarizedExperiment’, ‘BiocParallel’\n",
            "\n",
            "\n"
          ]
        }
      ]
    },
    {
      "cell_type": "code",
      "source": [
        "BiocManager::install(\"org.Hs.eg.db\") # ~1 min"
      ],
      "metadata": {
        "colab": {
          "base_uri": "https://localhost:8080/"
        },
        "id": "7dRH97p-8n6d",
        "outputId": "f6b2e687-4d24-4ebb-9c60-51ac5db58a82"
      },
      "execution_count": null,
      "outputs": [
        {
          "output_type": "stream",
          "name": "stderr",
          "text": [
            "'getOption(\"repos\")' replaces Bioconductor standard repositories, see\n",
            "'help(\"repositories\", package = \"BiocManager\")' for details.\n",
            "Replacement repositories:\n",
            "    CRAN: https://cran.rstudio.com\n",
            "\n",
            "Bioconductor version 3.20 (BiocManager 1.30.25), R 4.4.2 (2024-10-31)\n",
            "\n",
            "Installing package(s) 'org.Hs.eg.db'\n",
            "\n"
          ]
        }
      ]
    },
    {
      "cell_type": "code",
      "source": [
        "library(ggplot2)\n",
        "library(dplyr)\n",
        "library(data.table)\n",
        "library(tidyverse)\n",
        "library(BiocManager)\n",
        "library(biomaRt)\n",
        "library(DESeq2)\n",
        "library(org.Hs.eg.db)"
      ],
      "metadata": {
        "colab": {
          "base_uri": "https://localhost:8080/"
        },
        "id": "xaGSmaBs76rk",
        "outputId": "f0ffd3f3-d988-4d05-faeb-fd7081937db1"
      },
      "execution_count": null,
      "outputs": [
        {
          "output_type": "stream",
          "name": "stderr",
          "text": [
            "Loading required package: AnnotationDbi\n",
            "\n",
            "\n",
            "Attaching package: ‘AnnotationDbi’\n",
            "\n",
            "\n",
            "The following object is masked from ‘package:dplyr’:\n",
            "\n",
            "    select\n",
            "\n",
            "\n",
            "\n",
            "\n"
          ]
        }
      ]
    },
    {
      "cell_type": "markdown",
      "source": [
        "# **Download GSE dataset**\n",
        "좌측 폴더 모양 클릭 후 다운로드 받은 GSE 파일을 업로드"
      ],
      "metadata": {
        "id": "06qrC_f-F6Uv"
      }
    },
    {
      "cell_type": "code",
      "source": [
        "getwd()"
      ],
      "metadata": {
        "id": "LbhfVzz-svYW",
        "outputId": "db8db595-8f96-49e2-b843-a1fb2dc6dfeb",
        "colab": {
          "base_uri": "https://localhost:8080/",
          "height": 34
        }
      },
      "execution_count": null,
      "outputs": [
        {
          "output_type": "display_data",
          "data": {
            "text/html": [
              "'/content'"
            ],
            "text/markdown": "'/content'",
            "text/latex": "'/content'",
            "text/plain": [
              "[1] \"/content\""
            ]
          },
          "metadata": {}
        }
      ]
    },
    {
      "cell_type": "code",
      "source": [
        "#--------- 1. read data # 데이터 구글드라이브에 올려야함\n",
        "raw_count <- read.table('/content/GSE152418_p20047_Study1_RawCounts.txt', header = T, row.names = 1)"
      ],
      "metadata": {
        "id": "OiHiZLGztJ8W"
      },
      "execution_count": null,
      "outputs": []
    },
    {
      "cell_type": "code",
      "source": [
        "raw_count   # Ensembl Gene ID\n",
        "dim(raw_count)\n",
        "class(raw_count)"
      ],
      "metadata": {
        "id": "qnL0FmF3fhAh",
        "colab": {
          "base_uri": "https://localhost:8080/",
          "height": 1000
        },
        "outputId": "af32f74d-1d66-4d91-fa29-4a87f2a3658c"
      },
      "execution_count": null,
      "outputs": [
        {
          "output_type": "display_data",
          "data": {
            "text/html": [
              "<table class=\"dataframe\">\n",
              "<caption>A data.frame: 60683 × 34</caption>\n",
              "<thead>\n",
              "\t<tr><th></th><th scope=col>S145_nCOV001_C</th><th scope=col>S147_nCoV001EUHM.Draw.1</th><th scope=col>S149_nCoV002EUHM.Draw.2</th><th scope=col>S150_nCoV003EUHM.Draw.1</th><th scope=col>S151_nCoV004EUHM.Draw.1</th><th scope=col>S152_nCoV006EUHM.Draw.1</th><th scope=col>S153_nCoV007EUHM.Draw.1</th><th scope=col>S154_nCoV0010EUHM.Draw.1</th><th scope=col>S155_nCOV021EUHM</th><th scope=col>S156_nCOV024EUHM.Draw.1</th><th scope=col>⋯</th><th scope=col>S068_272</th><th scope=col>S069_273</th><th scope=col>S070_279</th><th scope=col>S071_280</th><th scope=col>S181_255</th><th scope=col>S182_SHXA10</th><th scope=col>S183_263</th><th scope=col>S184_SHXA18</th><th scope=col>S185_266</th><th scope=col>S186_SHXA14</th></tr>\n",
              "\t<tr><th></th><th scope=col>&lt;int&gt;</th><th scope=col>&lt;int&gt;</th><th scope=col>&lt;int&gt;</th><th scope=col>&lt;int&gt;</th><th scope=col>&lt;int&gt;</th><th scope=col>&lt;int&gt;</th><th scope=col>&lt;int&gt;</th><th scope=col>&lt;int&gt;</th><th scope=col>&lt;int&gt;</th><th scope=col>&lt;int&gt;</th><th scope=col>⋯</th><th scope=col>&lt;int&gt;</th><th scope=col>&lt;int&gt;</th><th scope=col>&lt;int&gt;</th><th scope=col>&lt;int&gt;</th><th scope=col>&lt;int&gt;</th><th scope=col>&lt;int&gt;</th><th scope=col>&lt;int&gt;</th><th scope=col>&lt;int&gt;</th><th scope=col>&lt;int&gt;</th><th scope=col>&lt;int&gt;</th></tr>\n",
              "</thead>\n",
              "<tbody>\n",
              "\t<tr><th scope=row>ENSG00000223972</th><td> 0</td><td> 0</td><td> 0</td><td> 0</td><td> 0</td><td> 0</td><td> 0</td><td> 0</td><td> 2</td><td> 0</td><td>⋯</td><td> 0</td><td> 0</td><td> 0</td><td> 0</td><td> 0</td><td> 0</td><td> 0</td><td> 0</td><td> 0</td><td> 0</td></tr>\n",
              "\t<tr><th scope=row>ENSG00000227232</th><td> 1</td><td> 0</td><td> 3</td><td>16</td><td> 1</td><td> 2</td><td>18</td><td> 6</td><td>20</td><td> 0</td><td>⋯</td><td> 1</td><td> 1</td><td> 1</td><td> 2</td><td> 3</td><td> 4</td><td> 1</td><td> 0</td><td> 0</td><td> 7</td></tr>\n",
              "\t<tr><th scope=row>ENSG00000278267</th><td> 3</td><td> 1</td><td> 2</td><td> 0</td><td> 3</td><td> 0</td><td> 0</td><td> 1</td><td> 3</td><td> 2</td><td>⋯</td><td> 2</td><td> 7</td><td> 2</td><td> 6</td><td> 3</td><td> 2</td><td> 6</td><td>12</td><td> 5</td><td> 3</td></tr>\n",
              "\t<tr><th scope=row>ENSG00000243485</th><td> 2</td><td> 0</td><td> 0</td><td> 1</td><td> 0</td><td> 0</td><td> 0</td><td> 0</td><td> 0</td><td> 0</td><td>⋯</td><td> 0</td><td> 0</td><td> 0</td><td> 1</td><td> 0</td><td> 0</td><td> 0</td><td> 0</td><td> 0</td><td> 0</td></tr>\n",
              "\t<tr><th scope=row>ENSG00000284332</th><td> 0</td><td> 0</td><td> 0</td><td> 0</td><td> 0</td><td> 0</td><td> 0</td><td> 0</td><td> 0</td><td> 0</td><td>⋯</td><td> 0</td><td> 0</td><td> 0</td><td> 0</td><td> 0</td><td> 0</td><td> 0</td><td> 0</td><td> 0</td><td> 0</td></tr>\n",
              "\t<tr><th scope=row>ENSG00000237613</th><td> 0</td><td> 0</td><td> 0</td><td> 0</td><td> 0</td><td> 0</td><td> 0</td><td> 0</td><td> 0</td><td> 0</td><td>⋯</td><td> 0</td><td> 0</td><td> 0</td><td> 0</td><td> 0</td><td> 0</td><td> 0</td><td> 0</td><td> 0</td><td> 0</td></tr>\n",
              "\t<tr><th scope=row>ENSG00000268020</th><td> 0</td><td> 0</td><td> 0</td><td> 0</td><td> 0</td><td> 0</td><td> 0</td><td> 0</td><td> 0</td><td> 0</td><td>⋯</td><td> 0</td><td> 0</td><td> 0</td><td> 0</td><td> 0</td><td> 0</td><td> 0</td><td> 0</td><td> 0</td><td> 0</td></tr>\n",
              "\t<tr><th scope=row>ENSG00000240361</th><td> 1</td><td> 0</td><td> 0</td><td> 0</td><td> 0</td><td> 0</td><td> 0</td><td> 0</td><td> 0</td><td> 0</td><td>⋯</td><td> 0</td><td> 0</td><td> 0</td><td> 0</td><td> 0</td><td> 0</td><td> 0</td><td> 0</td><td> 0</td><td> 0</td></tr>\n",
              "\t<tr><th scope=row>ENSG00000186092</th><td> 0</td><td> 0</td><td> 0</td><td> 0</td><td> 0</td><td> 0</td><td> 0</td><td> 1</td><td> 1</td><td> 0</td><td>⋯</td><td> 0</td><td> 3</td><td> 0</td><td> 0</td><td> 0</td><td> 0</td><td> 0</td><td> 0</td><td> 0</td><td> 0</td></tr>\n",
              "\t<tr><th scope=row>ENSG00000238009</th><td> 1</td><td> 0</td><td> 0</td><td> 0</td><td> 0</td><td> 0</td><td> 0</td><td> 0</td><td> 1</td><td> 0</td><td>⋯</td><td> 0</td><td> 0</td><td> 0</td><td> 0</td><td> 1</td><td> 1</td><td> 0</td><td> 0</td><td> 0</td><td> 0</td></tr>\n",
              "\t<tr><th scope=row>ENSG00000239945</th><td> 0</td><td> 0</td><td> 0</td><td> 0</td><td> 0</td><td> 0</td><td> 0</td><td> 0</td><td> 0</td><td> 0</td><td>⋯</td><td> 0</td><td> 0</td><td> 0</td><td> 0</td><td> 0</td><td> 0</td><td> 0</td><td> 0</td><td> 0</td><td> 0</td></tr>\n",
              "\t<tr><th scope=row>ENSG00000233750</th><td> 1</td><td> 1</td><td> 0</td><td> 1</td><td> 1</td><td> 0</td><td> 0</td><td> 2</td><td> 0</td><td> 0</td><td>⋯</td><td> 0</td><td> 1</td><td> 0</td><td> 1</td><td> 0</td><td> 1</td><td> 1</td><td> 0</td><td> 1</td><td> 1</td></tr>\n",
              "\t<tr><th scope=row>ENSG00000268903</th><td>18</td><td>10</td><td> 4</td><td> 8</td><td>33</td><td>10</td><td> 8</td><td>13</td><td>27</td><td>19</td><td>⋯</td><td> 6</td><td> 8</td><td> 6</td><td>14</td><td> 8</td><td>10</td><td> 6</td><td> 5</td><td> 7</td><td>14</td></tr>\n",
              "\t<tr><th scope=row>ENSG00000269981</th><td>11</td><td> 1</td><td> 5</td><td> 7</td><td>23</td><td> 1</td><td> 4</td><td>18</td><td>18</td><td>24</td><td>⋯</td><td> 6</td><td> 8</td><td> 5</td><td>14</td><td> 6</td><td>16</td><td> 4</td><td> 7</td><td> 1</td><td>13</td></tr>\n",
              "\t<tr><th scope=row>ENSG00000239906</th><td> 0</td><td> 0</td><td> 0</td><td> 0</td><td> 1</td><td> 0</td><td> 0</td><td> 0</td><td> 0</td><td> 0</td><td>⋯</td><td> 0</td><td> 0</td><td> 0</td><td> 0</td><td> 0</td><td> 2</td><td> 0</td><td> 0</td><td> 0</td><td> 0</td></tr>\n",
              "\t<tr><th scope=row>ENSG00000241860</th><td> 1</td><td> 0</td><td> 2</td><td> 1</td><td> 7</td><td> 2</td><td> 2</td><td> 2</td><td> 3</td><td> 5</td><td>⋯</td><td> 5</td><td> 2</td><td> 1</td><td> 6</td><td> 1</td><td>10</td><td> 2</td><td> 6</td><td> 0</td><td> 5</td></tr>\n",
              "\t<tr><th scope=row>ENSG00000222623</th><td> 0</td><td> 0</td><td> 0</td><td> 0</td><td> 0</td><td> 0</td><td> 0</td><td> 0</td><td> 0</td><td> 0</td><td>⋯</td><td> 0</td><td> 0</td><td> 0</td><td> 0</td><td> 0</td><td> 0</td><td> 0</td><td> 0</td><td> 0</td><td> 0</td></tr>\n",
              "\t<tr><th scope=row>ENSG00000241599</th><td> 0</td><td> 0</td><td> 0</td><td> 0</td><td> 0</td><td> 0</td><td> 2</td><td> 0</td><td> 0</td><td> 0</td><td>⋯</td><td> 0</td><td> 0</td><td> 0</td><td> 0</td><td> 0</td><td> 0</td><td> 0</td><td> 0</td><td> 0</td><td> 1</td></tr>\n",
              "\t<tr><th scope=row>ENSG00000279928</th><td> 4</td><td> 5</td><td> 7</td><td>11</td><td> 0</td><td> 2</td><td> 4</td><td> 3</td><td> 1</td><td> 3</td><td>⋯</td><td>14</td><td> 5</td><td> 7</td><td> 9</td><td> 1</td><td> 5</td><td> 8</td><td> 7</td><td>11</td><td> 7</td></tr>\n",
              "\t<tr><th scope=row>ENSG00000279457</th><td>29</td><td>44</td><td>16</td><td>15</td><td>24</td><td>13</td><td>41</td><td>25</td><td>39</td><td>20</td><td>⋯</td><td>35</td><td>34</td><td>58</td><td>44</td><td>24</td><td>15</td><td>35</td><td>62</td><td>37</td><td> 7</td></tr>\n",
              "\t<tr><th scope=row>ENSG00000273874</th><td> 0</td><td> 0</td><td> 0</td><td> 0</td><td> 0</td><td> 0</td><td> 0</td><td> 0</td><td> 0</td><td> 0</td><td>⋯</td><td> 0</td><td> 0</td><td> 0</td><td> 0</td><td> 0</td><td> 0</td><td> 0</td><td> 0</td><td> 0</td><td> 0</td></tr>\n",
              "\t<tr><th scope=row>ENSG00000228463</th><td> 3</td><td> 1</td><td> 4</td><td> 1</td><td> 0</td><td> 2</td><td> 0</td><td> 5</td><td> 1</td><td> 3</td><td>⋯</td><td> 4</td><td> 5</td><td> 2</td><td> 1</td><td> 1</td><td> 1</td><td> 3</td><td> 6</td><td> 0</td><td> 3</td></tr>\n",
              "\t<tr><th scope=row>ENSG00000286448</th><td> 0</td><td> 1</td><td> 1</td><td> 0</td><td> 0</td><td> 0</td><td> 0</td><td> 1</td><td> 0</td><td> 0</td><td>⋯</td><td> 0</td><td> 0</td><td> 0</td><td> 0</td><td> 0</td><td> 0</td><td> 0</td><td> 0</td><td> 0</td><td> 0</td></tr>\n",
              "\t<tr><th scope=row>ENSG00000236679</th><td> 0</td><td> 0</td><td> 0</td><td> 0</td><td> 0</td><td> 0</td><td> 0</td><td> 0</td><td> 0</td><td> 0</td><td>⋯</td><td> 0</td><td> 0</td><td> 0</td><td> 0</td><td> 0</td><td> 0</td><td> 0</td><td> 0</td><td> 0</td><td> 0</td></tr>\n",
              "\t<tr><th scope=row>ENSG00000236601</th><td> 0</td><td> 0</td><td> 0</td><td> 0</td><td> 0</td><td> 0</td><td> 0</td><td> 0</td><td> 0</td><td> 0</td><td>⋯</td><td> 0</td><td> 0</td><td> 0</td><td> 0</td><td> 0</td><td> 0</td><td> 0</td><td> 0</td><td> 0</td><td> 0</td></tr>\n",
              "\t<tr><th scope=row>ENSG00000237094</th><td>10</td><td> 4</td><td> 4</td><td> 1</td><td> 7</td><td> 4</td><td> 3</td><td> 5</td><td> 3</td><td> 8</td><td>⋯</td><td> 1</td><td> 8</td><td> 0</td><td> 2</td><td> 6</td><td>10</td><td> 3</td><td> 2</td><td> 4</td><td> 8</td></tr>\n",
              "\t<tr><th scope=row>ENSG00000269732</th><td> 0</td><td> 0</td><td> 0</td><td> 0</td><td> 0</td><td> 0</td><td> 0</td><td> 0</td><td> 0</td><td> 0</td><td>⋯</td><td> 0</td><td> 0</td><td> 0</td><td> 0</td><td> 0</td><td> 0</td><td> 0</td><td> 0</td><td> 0</td><td> 0</td></tr>\n",
              "\t<tr><th scope=row>ENSG00000284733</th><td> 0</td><td> 0</td><td> 0</td><td> 0</td><td> 0</td><td> 0</td><td> 0</td><td> 0</td><td> 0</td><td> 0</td><td>⋯</td><td> 0</td><td> 0</td><td> 0</td><td> 0</td><td> 0</td><td> 0</td><td> 0</td><td> 0</td><td> 0</td><td> 0</td></tr>\n",
              "\t<tr><th scope=row>ENSG00000233653</th><td> 0</td><td> 0</td><td> 0</td><td> 0</td><td> 0</td><td> 0</td><td> 0</td><td> 0</td><td> 0</td><td> 0</td><td>⋯</td><td> 0</td><td> 0</td><td> 0</td><td> 0</td><td> 0</td><td> 0</td><td> 0</td><td> 0</td><td> 0</td><td> 0</td></tr>\n",
              "\t<tr><th scope=row>ENSG00000250575</th><td> 0</td><td> 0</td><td> 0</td><td> 0</td><td> 0</td><td> 0</td><td> 0</td><td> 0</td><td> 0</td><td> 0</td><td>⋯</td><td> 0</td><td> 0</td><td> 0</td><td> 0</td><td> 0</td><td> 0</td><td> 0</td><td> 0</td><td> 0</td><td> 0</td></tr>\n",
              "\t<tr><th scope=row>⋮</th><td>⋮</td><td>⋮</td><td>⋮</td><td>⋮</td><td>⋮</td><td>⋮</td><td>⋮</td><td>⋮</td><td>⋮</td><td>⋮</td><td>⋱</td><td>⋮</td><td>⋮</td><td>⋮</td><td>⋮</td><td>⋮</td><td>⋮</td><td>⋮</td><td>⋮</td><td>⋮</td><td>⋮</td></tr>\n",
              "\t<tr><th scope=row>ENSG00000276312</th><td> 0</td><td>  0</td><td>   0</td><td>   0</td><td>   0</td><td>   0</td><td>   0</td><td>  0</td><td>   0</td><td>   0</td><td>⋯</td><td> 0</td><td> 0</td><td> 0</td><td> 0</td><td>  0</td><td>  0</td><td>  0</td><td>  0</td><td>  0</td><td>  0</td></tr>\n",
              "\t<tr><th scope=row>ENSG00000275757</th><td> 0</td><td>  0</td><td>   0</td><td>   0</td><td>   0</td><td>   0</td><td>   0</td><td>  0</td><td>   0</td><td>   0</td><td>⋯</td><td> 0</td><td> 0</td><td> 0</td><td> 0</td><td>  0</td><td>  0</td><td>  0</td><td>  0</td><td>  0</td><td>  0</td></tr>\n",
              "\t<tr><th scope=row>ENSG00000273748</th><td>62</td><td>  7</td><td>   4</td><td>  39</td><td>   6</td><td>  14</td><td>   4</td><td>  8</td><td>  10</td><td>  14</td><td>⋯</td><td>34</td><td>49</td><td>34</td><td>61</td><td> 29</td><td> 27</td><td>  0</td><td> 51</td><td> 34</td><td> 12</td></tr>\n",
              "\t<tr><th scope=row>ENSG00000274202</th><td> 0</td><td>  0</td><td>   0</td><td>   0</td><td>   0</td><td>   0</td><td>   0</td><td>  0</td><td>   0</td><td>   0</td><td>⋯</td><td> 0</td><td> 0</td><td> 0</td><td> 0</td><td>  0</td><td>  0</td><td>  0</td><td>  0</td><td>  0</td><td>  0</td></tr>\n",
              "\t<tr><th scope=row>ENSG00000278625</th><td> 0</td><td>  0</td><td>   0</td><td>   0</td><td>   0</td><td>   0</td><td>   0</td><td>  0</td><td>   0</td><td>   0</td><td>⋯</td><td> 0</td><td> 0</td><td> 0</td><td> 0</td><td>  0</td><td>  2</td><td>  0</td><td>  0</td><td>  0</td><td>  1</td></tr>\n",
              "\t<tr><th scope=row>ENSG00000278573</th><td> 0</td><td>  0</td><td>   0</td><td>   0</td><td>   0</td><td>   0</td><td>   0</td><td>  0</td><td>   0</td><td>   0</td><td>⋯</td><td> 0</td><td> 0</td><td> 0</td><td> 0</td><td>  0</td><td>  0</td><td>  0</td><td>  0</td><td>  0</td><td>  0</td></tr>\n",
              "\t<tr><th scope=row>ENSG00000276017</th><td> 0</td><td>  0</td><td>   0</td><td>   0</td><td>   0</td><td>   0</td><td>   0</td><td>  0</td><td>   5</td><td>   0</td><td>⋯</td><td> 0</td><td> 0</td><td> 0</td><td> 0</td><td>  0</td><td>  0</td><td>  0</td><td>  0</td><td>  0</td><td>  0</td></tr>\n",
              "\t<tr><th scope=row>ENSG00000278817</th><td> 6</td><td> 10</td><td>   8</td><td>   4</td><td>   7</td><td>   7</td><td>   5</td><td>  6</td><td>   3</td><td>   0</td><td>⋯</td><td> 3</td><td>10</td><td>11</td><td> 5</td><td>  3</td><td> 12</td><td>  7</td><td> 15</td><td>  9</td><td>  7</td></tr>\n",
              "\t<tr><th scope=row>ENSG00000277196</th><td> 1</td><td>  1</td><td>   1</td><td>   1</td><td>   0</td><td>   0</td><td>   1</td><td>  0</td><td>   1</td><td>   0</td><td>⋯</td><td> 1</td><td> 1</td><td> 2</td><td> 4</td><td>  3</td><td>  2</td><td>  2</td><td>  4</td><td>  0</td><td>  0</td></tr>\n",
              "\t<tr><th scope=row>ENSG00000277630</th><td> 0</td><td>  0</td><td>   0</td><td>   0</td><td>   0</td><td>   0</td><td>   0</td><td>  0</td><td>   0</td><td>   0</td><td>⋯</td><td> 0</td><td> 0</td><td> 0</td><td> 0</td><td>  0</td><td>  1</td><td>  0</td><td>  0</td><td>  0</td><td>  0</td></tr>\n",
              "\t<tr><th scope=row>ENSG00000278793</th><td> 0</td><td>  0</td><td>   0</td><td>   0</td><td>   0</td><td>   0</td><td>   0</td><td>  0</td><td>   0</td><td>   0</td><td>⋯</td><td> 0</td><td> 0</td><td> 0</td><td> 0</td><td>  0</td><td>  0</td><td>  0</td><td>  0</td><td>  0</td><td>  0</td></tr>\n",
              "\t<tr><th scope=row>ENSG00000276197</th><td> 0</td><td>  0</td><td>   0</td><td>   0</td><td>   0</td><td>   0</td><td>   0</td><td>  0</td><td>   0</td><td>   0</td><td>⋯</td><td> 0</td><td> 0</td><td> 0</td><td> 0</td><td>  0</td><td>  0</td><td>  0</td><td>  0</td><td>  0</td><td>  0</td></tr>\n",
              "\t<tr><th scope=row>ENSG00000274917</th><td> 0</td><td>  0</td><td>   0</td><td>   0</td><td>   0</td><td>   0</td><td>   0</td><td>  0</td><td>   0</td><td>   0</td><td>⋯</td><td> 0</td><td> 0</td><td> 0</td><td> 0</td><td>  0</td><td>  0</td><td>  0</td><td>  0</td><td>  0</td><td>  0</td></tr>\n",
              "\t<tr><th scope=row>ENSG00000273937</th><td> 0</td><td>  0</td><td>   0</td><td>   0</td><td>   0</td><td>   0</td><td>   0</td><td>  0</td><td>   0</td><td>   0</td><td>⋯</td><td> 0</td><td> 0</td><td> 0</td><td> 0</td><td>  0</td><td>  0</td><td>  0</td><td>  0</td><td>  0</td><td>  0</td></tr>\n",
              "\t<tr><th scope=row>ENSG00000273730</th><td> 0</td><td>  0</td><td>   0</td><td>   0</td><td>   0</td><td>   0</td><td>   0</td><td>  0</td><td>   0</td><td>   0</td><td>⋯</td><td> 0</td><td> 0</td><td> 0</td><td> 0</td><td>  0</td><td>  0</td><td>  0</td><td>  0</td><td>  0</td><td>  0</td></tr>\n",
              "\t<tr><th scope=row>ENSG00000278384</th><td> 3</td><td> 16</td><td>   7</td><td>   5</td><td>   1</td><td>   2</td><td>   5</td><td>  3</td><td>   1</td><td>   0</td><td>⋯</td><td>11</td><td> 1</td><td>14</td><td> 3</td><td>  2</td><td>  0</td><td>  8</td><td>  1</td><td>  0</td><td>  0</td></tr>\n",
              "\t<tr><th scope=row>ENSG00000278633</th><td> 0</td><td>  0</td><td>   0</td><td>   0</td><td>   0</td><td>   0</td><td>   0</td><td>  0</td><td>   3</td><td>   0</td><td>⋯</td><td> 0</td><td> 0</td><td> 0</td><td> 0</td><td>  0</td><td>  0</td><td>  0</td><td>  0</td><td>  0</td><td>  0</td></tr>\n",
              "\t<tr><th scope=row>ENSG00000278066</th><td> 0</td><td>  0</td><td>   0</td><td>   0</td><td>   0</td><td>   0</td><td>   0</td><td>  0</td><td>   0</td><td>   0</td><td>⋯</td><td> 0</td><td> 0</td><td> 0</td><td> 0</td><td>  0</td><td>  0</td><td>  0</td><td>  0</td><td>  0</td><td>  0</td></tr>\n",
              "\t<tr><th scope=row>ENSG00000277374</th><td> 0</td><td>  0</td><td>   0</td><td>   0</td><td>   0</td><td>   0</td><td>   0</td><td>  0</td><td>   0</td><td>   0</td><td>⋯</td><td> 0</td><td> 0</td><td> 0</td><td> 0</td><td>  0</td><td>  0</td><td>  0</td><td>  0</td><td>  0</td><td>  0</td></tr>\n",
              "\t<tr><th scope=row>ENSG00000276345</th><td>32</td><td>  0</td><td>   0</td><td>   0</td><td>   0</td><td>   0</td><td>   0</td><td>  0</td><td>   1</td><td>   0</td><td>⋯</td><td> 0</td><td>31</td><td> 0</td><td> 0</td><td> 35</td><td>  0</td><td>  0</td><td>108</td><td>  0</td><td>  0</td></tr>\n",
              "\t<tr><th scope=row>ENSG00000273532</th><td> 0</td><td>  0</td><td>   0</td><td>   0</td><td>   0</td><td>   0</td><td>   0</td><td>  0</td><td>   0</td><td>   0</td><td>⋯</td><td> 0</td><td> 0</td><td> 0</td><td> 0</td><td>  0</td><td>  0</td><td>  0</td><td>  0</td><td>  0</td><td>  0</td></tr>\n",
              "\t<tr><th scope=row>ENSG00000276351</th><td> 0</td><td>  0</td><td>   0</td><td>   0</td><td>   0</td><td>   0</td><td>   0</td><td>  0</td><td>   0</td><td>   0</td><td>⋯</td><td> 0</td><td> 0</td><td> 0</td><td> 0</td><td>  0</td><td>  0</td><td>  0</td><td>  0</td><td>  0</td><td>  0</td></tr>\n",
              "\t<tr><th scope=row>ENSG00000275661</th><td> 0</td><td>  0</td><td>   0</td><td>   0</td><td>   0</td><td>   0</td><td>   0</td><td>  0</td><td>   0</td><td>   0</td><td>⋯</td><td> 0</td><td> 0</td><td> 0</td><td> 0</td><td>  0</td><td>  0</td><td>  0</td><td>  0</td><td>  0</td><td>  0</td></tr>\n",
              "\t<tr><th scope=row>ENSG00000277856</th><td>38</td><td>174</td><td> 283</td><td>1365</td><td> 184</td><td> 346</td><td> 920</td><td>298</td><td>8427</td><td> 106</td><td>⋯</td><td> 0</td><td>76</td><td>18</td><td>31</td><td> 59</td><td> 80</td><td> 86</td><td>123</td><td> 30</td><td>113</td></tr>\n",
              "\t<tr><th scope=row>ENSG00000275063</th><td>56</td><td>151</td><td>1313</td><td>5028</td><td>2240</td><td>5159</td><td>2878</td><td>107</td><td>1685</td><td>1950</td><td>⋯</td><td>37</td><td>58</td><td>90</td><td>45</td><td>369</td><td>895</td><td>180</td><td>141</td><td>138</td><td>927</td></tr>\n",
              "\t<tr><th scope=row>ENSG00000271254</th><td>40</td><td> 31</td><td>  56</td><td>  42</td><td>  42</td><td>  66</td><td>  40</td><td> 24</td><td>  32</td><td>  49</td><td>⋯</td><td>62</td><td>48</td><td>88</td><td>38</td><td> 63</td><td> 62</td><td> 83</td><td> 30</td><td> 60</td><td> 77</td></tr>\n",
              "\t<tr><th scope=row>ENSG00000275405</th><td>31</td><td> 22</td><td>  13</td><td>  19</td><td>   5</td><td>   4</td><td>  18</td><td>  6</td><td>   6</td><td>   4</td><td>⋯</td><td> 8</td><td> 6</td><td>14</td><td>15</td><td>  2</td><td>  2</td><td>  7</td><td>  5</td><td> 15</td><td>  3</td></tr>\n",
              "\t<tr><th scope=row>ENSG00000275987</th><td> 0</td><td>  0</td><td>   0</td><td>   0</td><td>   0</td><td>   0</td><td>   0</td><td>  0</td><td>   0</td><td>   0</td><td>⋯</td><td> 0</td><td> 0</td><td> 0</td><td> 0</td><td>  0</td><td>  0</td><td>  0</td><td>  0</td><td>  0</td><td>  0</td></tr>\n",
              "\t<tr><th scope=row>ENSG00000277475</th><td> 0</td><td>  0</td><td>   0</td><td>   0</td><td>   1</td><td>   0</td><td>   0</td><td>  0</td><td>   2</td><td>   0</td><td>⋯</td><td> 0</td><td> 0</td><td> 0</td><td> 0</td><td>  1</td><td>  0</td><td>  0</td><td>  0</td><td>  0</td><td>  0</td></tr>\n",
              "\t<tr><th scope=row>ENSG00000268674</th><td> 0</td><td>  0</td><td>   0</td><td>   0</td><td>   0</td><td>   0</td><td>   0</td><td>  0</td><td>   0</td><td>   0</td><td>⋯</td><td> 0</td><td> 0</td><td> 0</td><td> 0</td><td>  0</td><td>  0</td><td>  0</td><td>  0</td><td>  0</td><td>  0</td></tr>\n",
              "</tbody>\n",
              "</table>\n"
            ],
            "text/markdown": "\nA data.frame: 60683 × 34\n\n| <!--/--> | S145_nCOV001_C &lt;int&gt; | S147_nCoV001EUHM.Draw.1 &lt;int&gt; | S149_nCoV002EUHM.Draw.2 &lt;int&gt; | S150_nCoV003EUHM.Draw.1 &lt;int&gt; | S151_nCoV004EUHM.Draw.1 &lt;int&gt; | S152_nCoV006EUHM.Draw.1 &lt;int&gt; | S153_nCoV007EUHM.Draw.1 &lt;int&gt; | S154_nCoV0010EUHM.Draw.1 &lt;int&gt; | S155_nCOV021EUHM &lt;int&gt; | S156_nCOV024EUHM.Draw.1 &lt;int&gt; | ⋯ ⋯ | S068_272 &lt;int&gt; | S069_273 &lt;int&gt; | S070_279 &lt;int&gt; | S071_280 &lt;int&gt; | S181_255 &lt;int&gt; | S182_SHXA10 &lt;int&gt; | S183_263 &lt;int&gt; | S184_SHXA18 &lt;int&gt; | S185_266 &lt;int&gt; | S186_SHXA14 &lt;int&gt; |\n|---|---|---|---|---|---|---|---|---|---|---|---|---|---|---|---|---|---|---|---|---|---|\n| ENSG00000223972 |  0 |  0 |  0 |  0 |  0 |  0 |  0 |  0 |  2 |  0 | ⋯ |  0 |  0 |  0 |  0 |  0 |  0 |  0 |  0 |  0 |  0 |\n| ENSG00000227232 |  1 |  0 |  3 | 16 |  1 |  2 | 18 |  6 | 20 |  0 | ⋯ |  1 |  1 |  1 |  2 |  3 |  4 |  1 |  0 |  0 |  7 |\n| ENSG00000278267 |  3 |  1 |  2 |  0 |  3 |  0 |  0 |  1 |  3 |  2 | ⋯ |  2 |  7 |  2 |  6 |  3 |  2 |  6 | 12 |  5 |  3 |\n| ENSG00000243485 |  2 |  0 |  0 |  1 |  0 |  0 |  0 |  0 |  0 |  0 | ⋯ |  0 |  0 |  0 |  1 |  0 |  0 |  0 |  0 |  0 |  0 |\n| ENSG00000284332 |  0 |  0 |  0 |  0 |  0 |  0 |  0 |  0 |  0 |  0 | ⋯ |  0 |  0 |  0 |  0 |  0 |  0 |  0 |  0 |  0 |  0 |\n| ENSG00000237613 |  0 |  0 |  0 |  0 |  0 |  0 |  0 |  0 |  0 |  0 | ⋯ |  0 |  0 |  0 |  0 |  0 |  0 |  0 |  0 |  0 |  0 |\n| ENSG00000268020 |  0 |  0 |  0 |  0 |  0 |  0 |  0 |  0 |  0 |  0 | ⋯ |  0 |  0 |  0 |  0 |  0 |  0 |  0 |  0 |  0 |  0 |\n| ENSG00000240361 |  1 |  0 |  0 |  0 |  0 |  0 |  0 |  0 |  0 |  0 | ⋯ |  0 |  0 |  0 |  0 |  0 |  0 |  0 |  0 |  0 |  0 |\n| ENSG00000186092 |  0 |  0 |  0 |  0 |  0 |  0 |  0 |  1 |  1 |  0 | ⋯ |  0 |  3 |  0 |  0 |  0 |  0 |  0 |  0 |  0 |  0 |\n| ENSG00000238009 |  1 |  0 |  0 |  0 |  0 |  0 |  0 |  0 |  1 |  0 | ⋯ |  0 |  0 |  0 |  0 |  1 |  1 |  0 |  0 |  0 |  0 |\n| ENSG00000239945 |  0 |  0 |  0 |  0 |  0 |  0 |  0 |  0 |  0 |  0 | ⋯ |  0 |  0 |  0 |  0 |  0 |  0 |  0 |  0 |  0 |  0 |\n| ENSG00000233750 |  1 |  1 |  0 |  1 |  1 |  0 |  0 |  2 |  0 |  0 | ⋯ |  0 |  1 |  0 |  1 |  0 |  1 |  1 |  0 |  1 |  1 |\n| ENSG00000268903 | 18 | 10 |  4 |  8 | 33 | 10 |  8 | 13 | 27 | 19 | ⋯ |  6 |  8 |  6 | 14 |  8 | 10 |  6 |  5 |  7 | 14 |\n| ENSG00000269981 | 11 |  1 |  5 |  7 | 23 |  1 |  4 | 18 | 18 | 24 | ⋯ |  6 |  8 |  5 | 14 |  6 | 16 |  4 |  7 |  1 | 13 |\n| ENSG00000239906 |  0 |  0 |  0 |  0 |  1 |  0 |  0 |  0 |  0 |  0 | ⋯ |  0 |  0 |  0 |  0 |  0 |  2 |  0 |  0 |  0 |  0 |\n| ENSG00000241860 |  1 |  0 |  2 |  1 |  7 |  2 |  2 |  2 |  3 |  5 | ⋯ |  5 |  2 |  1 |  6 |  1 | 10 |  2 |  6 |  0 |  5 |\n| ENSG00000222623 |  0 |  0 |  0 |  0 |  0 |  0 |  0 |  0 |  0 |  0 | ⋯ |  0 |  0 |  0 |  0 |  0 |  0 |  0 |  0 |  0 |  0 |\n| ENSG00000241599 |  0 |  0 |  0 |  0 |  0 |  0 |  2 |  0 |  0 |  0 | ⋯ |  0 |  0 |  0 |  0 |  0 |  0 |  0 |  0 |  0 |  1 |\n| ENSG00000279928 |  4 |  5 |  7 | 11 |  0 |  2 |  4 |  3 |  1 |  3 | ⋯ | 14 |  5 |  7 |  9 |  1 |  5 |  8 |  7 | 11 |  7 |\n| ENSG00000279457 | 29 | 44 | 16 | 15 | 24 | 13 | 41 | 25 | 39 | 20 | ⋯ | 35 | 34 | 58 | 44 | 24 | 15 | 35 | 62 | 37 |  7 |\n| ENSG00000273874 |  0 |  0 |  0 |  0 |  0 |  0 |  0 |  0 |  0 |  0 | ⋯ |  0 |  0 |  0 |  0 |  0 |  0 |  0 |  0 |  0 |  0 |\n| ENSG00000228463 |  3 |  1 |  4 |  1 |  0 |  2 |  0 |  5 |  1 |  3 | ⋯ |  4 |  5 |  2 |  1 |  1 |  1 |  3 |  6 |  0 |  3 |\n| ENSG00000286448 |  0 |  1 |  1 |  0 |  0 |  0 |  0 |  1 |  0 |  0 | ⋯ |  0 |  0 |  0 |  0 |  0 |  0 |  0 |  0 |  0 |  0 |\n| ENSG00000236679 |  0 |  0 |  0 |  0 |  0 |  0 |  0 |  0 |  0 |  0 | ⋯ |  0 |  0 |  0 |  0 |  0 |  0 |  0 |  0 |  0 |  0 |\n| ENSG00000236601 |  0 |  0 |  0 |  0 |  0 |  0 |  0 |  0 |  0 |  0 | ⋯ |  0 |  0 |  0 |  0 |  0 |  0 |  0 |  0 |  0 |  0 |\n| ENSG00000237094 | 10 |  4 |  4 |  1 |  7 |  4 |  3 |  5 |  3 |  8 | ⋯ |  1 |  8 |  0 |  2 |  6 | 10 |  3 |  2 |  4 |  8 |\n| ENSG00000269732 |  0 |  0 |  0 |  0 |  0 |  0 |  0 |  0 |  0 |  0 | ⋯ |  0 |  0 |  0 |  0 |  0 |  0 |  0 |  0 |  0 |  0 |\n| ENSG00000284733 |  0 |  0 |  0 |  0 |  0 |  0 |  0 |  0 |  0 |  0 | ⋯ |  0 |  0 |  0 |  0 |  0 |  0 |  0 |  0 |  0 |  0 |\n| ENSG00000233653 |  0 |  0 |  0 |  0 |  0 |  0 |  0 |  0 |  0 |  0 | ⋯ |  0 |  0 |  0 |  0 |  0 |  0 |  0 |  0 |  0 |  0 |\n| ENSG00000250575 |  0 |  0 |  0 |  0 |  0 |  0 |  0 |  0 |  0 |  0 | ⋯ |  0 |  0 |  0 |  0 |  0 |  0 |  0 |  0 |  0 |  0 |\n| ⋮ | ⋮ | ⋮ | ⋮ | ⋮ | ⋮ | ⋮ | ⋮ | ⋮ | ⋮ | ⋮ | ⋱ | ⋮ | ⋮ | ⋮ | ⋮ | ⋮ | ⋮ | ⋮ | ⋮ | ⋮ | ⋮ |\n| ENSG00000276312 |  0 |   0 |    0 |    0 |    0 |    0 |    0 |   0 |    0 |    0 | ⋯ |  0 |  0 |  0 |  0 |   0 |   0 |   0 |   0 |   0 |   0 |\n| ENSG00000275757 |  0 |   0 |    0 |    0 |    0 |    0 |    0 |   0 |    0 |    0 | ⋯ |  0 |  0 |  0 |  0 |   0 |   0 |   0 |   0 |   0 |   0 |\n| ENSG00000273748 | 62 |   7 |    4 |   39 |    6 |   14 |    4 |   8 |   10 |   14 | ⋯ | 34 | 49 | 34 | 61 |  29 |  27 |   0 |  51 |  34 |  12 |\n| ENSG00000274202 |  0 |   0 |    0 |    0 |    0 |    0 |    0 |   0 |    0 |    0 | ⋯ |  0 |  0 |  0 |  0 |   0 |   0 |   0 |   0 |   0 |   0 |\n| ENSG00000278625 |  0 |   0 |    0 |    0 |    0 |    0 |    0 |   0 |    0 |    0 | ⋯ |  0 |  0 |  0 |  0 |   0 |   2 |   0 |   0 |   0 |   1 |\n| ENSG00000278573 |  0 |   0 |    0 |    0 |    0 |    0 |    0 |   0 |    0 |    0 | ⋯ |  0 |  0 |  0 |  0 |   0 |   0 |   0 |   0 |   0 |   0 |\n| ENSG00000276017 |  0 |   0 |    0 |    0 |    0 |    0 |    0 |   0 |    5 |    0 | ⋯ |  0 |  0 |  0 |  0 |   0 |   0 |   0 |   0 |   0 |   0 |\n| ENSG00000278817 |  6 |  10 |    8 |    4 |    7 |    7 |    5 |   6 |    3 |    0 | ⋯ |  3 | 10 | 11 |  5 |   3 |  12 |   7 |  15 |   9 |   7 |\n| ENSG00000277196 |  1 |   1 |    1 |    1 |    0 |    0 |    1 |   0 |    1 |    0 | ⋯ |  1 |  1 |  2 |  4 |   3 |   2 |   2 |   4 |   0 |   0 |\n| ENSG00000277630 |  0 |   0 |    0 |    0 |    0 |    0 |    0 |   0 |    0 |    0 | ⋯ |  0 |  0 |  0 |  0 |   0 |   1 |   0 |   0 |   0 |   0 |\n| ENSG00000278793 |  0 |   0 |    0 |    0 |    0 |    0 |    0 |   0 |    0 |    0 | ⋯ |  0 |  0 |  0 |  0 |   0 |   0 |   0 |   0 |   0 |   0 |\n| ENSG00000276197 |  0 |   0 |    0 |    0 |    0 |    0 |    0 |   0 |    0 |    0 | ⋯ |  0 |  0 |  0 |  0 |   0 |   0 |   0 |   0 |   0 |   0 |\n| ENSG00000274917 |  0 |   0 |    0 |    0 |    0 |    0 |    0 |   0 |    0 |    0 | ⋯ |  0 |  0 |  0 |  0 |   0 |   0 |   0 |   0 |   0 |   0 |\n| ENSG00000273937 |  0 |   0 |    0 |    0 |    0 |    0 |    0 |   0 |    0 |    0 | ⋯ |  0 |  0 |  0 |  0 |   0 |   0 |   0 |   0 |   0 |   0 |\n| ENSG00000273730 |  0 |   0 |    0 |    0 |    0 |    0 |    0 |   0 |    0 |    0 | ⋯ |  0 |  0 |  0 |  0 |   0 |   0 |   0 |   0 |   0 |   0 |\n| ENSG00000278384 |  3 |  16 |    7 |    5 |    1 |    2 |    5 |   3 |    1 |    0 | ⋯ | 11 |  1 | 14 |  3 |   2 |   0 |   8 |   1 |   0 |   0 |\n| ENSG00000278633 |  0 |   0 |    0 |    0 |    0 |    0 |    0 |   0 |    3 |    0 | ⋯ |  0 |  0 |  0 |  0 |   0 |   0 |   0 |   0 |   0 |   0 |\n| ENSG00000278066 |  0 |   0 |    0 |    0 |    0 |    0 |    0 |   0 |    0 |    0 | ⋯ |  0 |  0 |  0 |  0 |   0 |   0 |   0 |   0 |   0 |   0 |\n| ENSG00000277374 |  0 |   0 |    0 |    0 |    0 |    0 |    0 |   0 |    0 |    0 | ⋯ |  0 |  0 |  0 |  0 |   0 |   0 |   0 |   0 |   0 |   0 |\n| ENSG00000276345 | 32 |   0 |    0 |    0 |    0 |    0 |    0 |   0 |    1 |    0 | ⋯ |  0 | 31 |  0 |  0 |  35 |   0 |   0 | 108 |   0 |   0 |\n| ENSG00000273532 |  0 |   0 |    0 |    0 |    0 |    0 |    0 |   0 |    0 |    0 | ⋯ |  0 |  0 |  0 |  0 |   0 |   0 |   0 |   0 |   0 |   0 |\n| ENSG00000276351 |  0 |   0 |    0 |    0 |    0 |    0 |    0 |   0 |    0 |    0 | ⋯ |  0 |  0 |  0 |  0 |   0 |   0 |   0 |   0 |   0 |   0 |\n| ENSG00000275661 |  0 |   0 |    0 |    0 |    0 |    0 |    0 |   0 |    0 |    0 | ⋯ |  0 |  0 |  0 |  0 |   0 |   0 |   0 |   0 |   0 |   0 |\n| ENSG00000277856 | 38 | 174 |  283 | 1365 |  184 |  346 |  920 | 298 | 8427 |  106 | ⋯ |  0 | 76 | 18 | 31 |  59 |  80 |  86 | 123 |  30 | 113 |\n| ENSG00000275063 | 56 | 151 | 1313 | 5028 | 2240 | 5159 | 2878 | 107 | 1685 | 1950 | ⋯ | 37 | 58 | 90 | 45 | 369 | 895 | 180 | 141 | 138 | 927 |\n| ENSG00000271254 | 40 |  31 |   56 |   42 |   42 |   66 |   40 |  24 |   32 |   49 | ⋯ | 62 | 48 | 88 | 38 |  63 |  62 |  83 |  30 |  60 |  77 |\n| ENSG00000275405 | 31 |  22 |   13 |   19 |    5 |    4 |   18 |   6 |    6 |    4 | ⋯ |  8 |  6 | 14 | 15 |   2 |   2 |   7 |   5 |  15 |   3 |\n| ENSG00000275987 |  0 |   0 |    0 |    0 |    0 |    0 |    0 |   0 |    0 |    0 | ⋯ |  0 |  0 |  0 |  0 |   0 |   0 |   0 |   0 |   0 |   0 |\n| ENSG00000277475 |  0 |   0 |    0 |    0 |    1 |    0 |    0 |   0 |    2 |    0 | ⋯ |  0 |  0 |  0 |  0 |   1 |   0 |   0 |   0 |   0 |   0 |\n| ENSG00000268674 |  0 |   0 |    0 |    0 |    0 |    0 |    0 |   0 |    0 |    0 | ⋯ |  0 |  0 |  0 |  0 |   0 |   0 |   0 |   0 |   0 |   0 |\n\n",
            "text/latex": "A data.frame: 60683 × 34\n\\begin{tabular}{r|lllllllllllllllllllll}\n  & S145\\_nCOV001\\_C & S147\\_nCoV001EUHM.Draw.1 & S149\\_nCoV002EUHM.Draw.2 & S150\\_nCoV003EUHM.Draw.1 & S151\\_nCoV004EUHM.Draw.1 & S152\\_nCoV006EUHM.Draw.1 & S153\\_nCoV007EUHM.Draw.1 & S154\\_nCoV0010EUHM.Draw.1 & S155\\_nCOV021EUHM & S156\\_nCOV024EUHM.Draw.1 & ⋯ & S068\\_272 & S069\\_273 & S070\\_279 & S071\\_280 & S181\\_255 & S182\\_SHXA10 & S183\\_263 & S184\\_SHXA18 & S185\\_266 & S186\\_SHXA14\\\\\n  & <int> & <int> & <int> & <int> & <int> & <int> & <int> & <int> & <int> & <int> & ⋯ & <int> & <int> & <int> & <int> & <int> & <int> & <int> & <int> & <int> & <int>\\\\\n\\hline\n\tENSG00000223972 &  0 &  0 &  0 &  0 &  0 &  0 &  0 &  0 &  2 &  0 & ⋯ &  0 &  0 &  0 &  0 &  0 &  0 &  0 &  0 &  0 &  0\\\\\n\tENSG00000227232 &  1 &  0 &  3 & 16 &  1 &  2 & 18 &  6 & 20 &  0 & ⋯ &  1 &  1 &  1 &  2 &  3 &  4 &  1 &  0 &  0 &  7\\\\\n\tENSG00000278267 &  3 &  1 &  2 &  0 &  3 &  0 &  0 &  1 &  3 &  2 & ⋯ &  2 &  7 &  2 &  6 &  3 &  2 &  6 & 12 &  5 &  3\\\\\n\tENSG00000243485 &  2 &  0 &  0 &  1 &  0 &  0 &  0 &  0 &  0 &  0 & ⋯ &  0 &  0 &  0 &  1 &  0 &  0 &  0 &  0 &  0 &  0\\\\\n\tENSG00000284332 &  0 &  0 &  0 &  0 &  0 &  0 &  0 &  0 &  0 &  0 & ⋯ &  0 &  0 &  0 &  0 &  0 &  0 &  0 &  0 &  0 &  0\\\\\n\tENSG00000237613 &  0 &  0 &  0 &  0 &  0 &  0 &  0 &  0 &  0 &  0 & ⋯ &  0 &  0 &  0 &  0 &  0 &  0 &  0 &  0 &  0 &  0\\\\\n\tENSG00000268020 &  0 &  0 &  0 &  0 &  0 &  0 &  0 &  0 &  0 &  0 & ⋯ &  0 &  0 &  0 &  0 &  0 &  0 &  0 &  0 &  0 &  0\\\\\n\tENSG00000240361 &  1 &  0 &  0 &  0 &  0 &  0 &  0 &  0 &  0 &  0 & ⋯ &  0 &  0 &  0 &  0 &  0 &  0 &  0 &  0 &  0 &  0\\\\\n\tENSG00000186092 &  0 &  0 &  0 &  0 &  0 &  0 &  0 &  1 &  1 &  0 & ⋯ &  0 &  3 &  0 &  0 &  0 &  0 &  0 &  0 &  0 &  0\\\\\n\tENSG00000238009 &  1 &  0 &  0 &  0 &  0 &  0 &  0 &  0 &  1 &  0 & ⋯ &  0 &  0 &  0 &  0 &  1 &  1 &  0 &  0 &  0 &  0\\\\\n\tENSG00000239945 &  0 &  0 &  0 &  0 &  0 &  0 &  0 &  0 &  0 &  0 & ⋯ &  0 &  0 &  0 &  0 &  0 &  0 &  0 &  0 &  0 &  0\\\\\n\tENSG00000233750 &  1 &  1 &  0 &  1 &  1 &  0 &  0 &  2 &  0 &  0 & ⋯ &  0 &  1 &  0 &  1 &  0 &  1 &  1 &  0 &  1 &  1\\\\\n\tENSG00000268903 & 18 & 10 &  4 &  8 & 33 & 10 &  8 & 13 & 27 & 19 & ⋯ &  6 &  8 &  6 & 14 &  8 & 10 &  6 &  5 &  7 & 14\\\\\n\tENSG00000269981 & 11 &  1 &  5 &  7 & 23 &  1 &  4 & 18 & 18 & 24 & ⋯ &  6 &  8 &  5 & 14 &  6 & 16 &  4 &  7 &  1 & 13\\\\\n\tENSG00000239906 &  0 &  0 &  0 &  0 &  1 &  0 &  0 &  0 &  0 &  0 & ⋯ &  0 &  0 &  0 &  0 &  0 &  2 &  0 &  0 &  0 &  0\\\\\n\tENSG00000241860 &  1 &  0 &  2 &  1 &  7 &  2 &  2 &  2 &  3 &  5 & ⋯ &  5 &  2 &  1 &  6 &  1 & 10 &  2 &  6 &  0 &  5\\\\\n\tENSG00000222623 &  0 &  0 &  0 &  0 &  0 &  0 &  0 &  0 &  0 &  0 & ⋯ &  0 &  0 &  0 &  0 &  0 &  0 &  0 &  0 &  0 &  0\\\\\n\tENSG00000241599 &  0 &  0 &  0 &  0 &  0 &  0 &  2 &  0 &  0 &  0 & ⋯ &  0 &  0 &  0 &  0 &  0 &  0 &  0 &  0 &  0 &  1\\\\\n\tENSG00000279928 &  4 &  5 &  7 & 11 &  0 &  2 &  4 &  3 &  1 &  3 & ⋯ & 14 &  5 &  7 &  9 &  1 &  5 &  8 &  7 & 11 &  7\\\\\n\tENSG00000279457 & 29 & 44 & 16 & 15 & 24 & 13 & 41 & 25 & 39 & 20 & ⋯ & 35 & 34 & 58 & 44 & 24 & 15 & 35 & 62 & 37 &  7\\\\\n\tENSG00000273874 &  0 &  0 &  0 &  0 &  0 &  0 &  0 &  0 &  0 &  0 & ⋯ &  0 &  0 &  0 &  0 &  0 &  0 &  0 &  0 &  0 &  0\\\\\n\tENSG00000228463 &  3 &  1 &  4 &  1 &  0 &  2 &  0 &  5 &  1 &  3 & ⋯ &  4 &  5 &  2 &  1 &  1 &  1 &  3 &  6 &  0 &  3\\\\\n\tENSG00000286448 &  0 &  1 &  1 &  0 &  0 &  0 &  0 &  1 &  0 &  0 & ⋯ &  0 &  0 &  0 &  0 &  0 &  0 &  0 &  0 &  0 &  0\\\\\n\tENSG00000236679 &  0 &  0 &  0 &  0 &  0 &  0 &  0 &  0 &  0 &  0 & ⋯ &  0 &  0 &  0 &  0 &  0 &  0 &  0 &  0 &  0 &  0\\\\\n\tENSG00000236601 &  0 &  0 &  0 &  0 &  0 &  0 &  0 &  0 &  0 &  0 & ⋯ &  0 &  0 &  0 &  0 &  0 &  0 &  0 &  0 &  0 &  0\\\\\n\tENSG00000237094 & 10 &  4 &  4 &  1 &  7 &  4 &  3 &  5 &  3 &  8 & ⋯ &  1 &  8 &  0 &  2 &  6 & 10 &  3 &  2 &  4 &  8\\\\\n\tENSG00000269732 &  0 &  0 &  0 &  0 &  0 &  0 &  0 &  0 &  0 &  0 & ⋯ &  0 &  0 &  0 &  0 &  0 &  0 &  0 &  0 &  0 &  0\\\\\n\tENSG00000284733 &  0 &  0 &  0 &  0 &  0 &  0 &  0 &  0 &  0 &  0 & ⋯ &  0 &  0 &  0 &  0 &  0 &  0 &  0 &  0 &  0 &  0\\\\\n\tENSG00000233653 &  0 &  0 &  0 &  0 &  0 &  0 &  0 &  0 &  0 &  0 & ⋯ &  0 &  0 &  0 &  0 &  0 &  0 &  0 &  0 &  0 &  0\\\\\n\tENSG00000250575 &  0 &  0 &  0 &  0 &  0 &  0 &  0 &  0 &  0 &  0 & ⋯ &  0 &  0 &  0 &  0 &  0 &  0 &  0 &  0 &  0 &  0\\\\\n\t⋮ & ⋮ & ⋮ & ⋮ & ⋮ & ⋮ & ⋮ & ⋮ & ⋮ & ⋮ & ⋮ & ⋱ & ⋮ & ⋮ & ⋮ & ⋮ & ⋮ & ⋮ & ⋮ & ⋮ & ⋮ & ⋮\\\\\n\tENSG00000276312 &  0 &   0 &    0 &    0 &    0 &    0 &    0 &   0 &    0 &    0 & ⋯ &  0 &  0 &  0 &  0 &   0 &   0 &   0 &   0 &   0 &   0\\\\\n\tENSG00000275757 &  0 &   0 &    0 &    0 &    0 &    0 &    0 &   0 &    0 &    0 & ⋯ &  0 &  0 &  0 &  0 &   0 &   0 &   0 &   0 &   0 &   0\\\\\n\tENSG00000273748 & 62 &   7 &    4 &   39 &    6 &   14 &    4 &   8 &   10 &   14 & ⋯ & 34 & 49 & 34 & 61 &  29 &  27 &   0 &  51 &  34 &  12\\\\\n\tENSG00000274202 &  0 &   0 &    0 &    0 &    0 &    0 &    0 &   0 &    0 &    0 & ⋯ &  0 &  0 &  0 &  0 &   0 &   0 &   0 &   0 &   0 &   0\\\\\n\tENSG00000278625 &  0 &   0 &    0 &    0 &    0 &    0 &    0 &   0 &    0 &    0 & ⋯ &  0 &  0 &  0 &  0 &   0 &   2 &   0 &   0 &   0 &   1\\\\\n\tENSG00000278573 &  0 &   0 &    0 &    0 &    0 &    0 &    0 &   0 &    0 &    0 & ⋯ &  0 &  0 &  0 &  0 &   0 &   0 &   0 &   0 &   0 &   0\\\\\n\tENSG00000276017 &  0 &   0 &    0 &    0 &    0 &    0 &    0 &   0 &    5 &    0 & ⋯ &  0 &  0 &  0 &  0 &   0 &   0 &   0 &   0 &   0 &   0\\\\\n\tENSG00000278817 &  6 &  10 &    8 &    4 &    7 &    7 &    5 &   6 &    3 &    0 & ⋯ &  3 & 10 & 11 &  5 &   3 &  12 &   7 &  15 &   9 &   7\\\\\n\tENSG00000277196 &  1 &   1 &    1 &    1 &    0 &    0 &    1 &   0 &    1 &    0 & ⋯ &  1 &  1 &  2 &  4 &   3 &   2 &   2 &   4 &   0 &   0\\\\\n\tENSG00000277630 &  0 &   0 &    0 &    0 &    0 &    0 &    0 &   0 &    0 &    0 & ⋯ &  0 &  0 &  0 &  0 &   0 &   1 &   0 &   0 &   0 &   0\\\\\n\tENSG00000278793 &  0 &   0 &    0 &    0 &    0 &    0 &    0 &   0 &    0 &    0 & ⋯ &  0 &  0 &  0 &  0 &   0 &   0 &   0 &   0 &   0 &   0\\\\\n\tENSG00000276197 &  0 &   0 &    0 &    0 &    0 &    0 &    0 &   0 &    0 &    0 & ⋯ &  0 &  0 &  0 &  0 &   0 &   0 &   0 &   0 &   0 &   0\\\\\n\tENSG00000274917 &  0 &   0 &    0 &    0 &    0 &    0 &    0 &   0 &    0 &    0 & ⋯ &  0 &  0 &  0 &  0 &   0 &   0 &   0 &   0 &   0 &   0\\\\\n\tENSG00000273937 &  0 &   0 &    0 &    0 &    0 &    0 &    0 &   0 &    0 &    0 & ⋯ &  0 &  0 &  0 &  0 &   0 &   0 &   0 &   0 &   0 &   0\\\\\n\tENSG00000273730 &  0 &   0 &    0 &    0 &    0 &    0 &    0 &   0 &    0 &    0 & ⋯ &  0 &  0 &  0 &  0 &   0 &   0 &   0 &   0 &   0 &   0\\\\\n\tENSG00000278384 &  3 &  16 &    7 &    5 &    1 &    2 &    5 &   3 &    1 &    0 & ⋯ & 11 &  1 & 14 &  3 &   2 &   0 &   8 &   1 &   0 &   0\\\\\n\tENSG00000278633 &  0 &   0 &    0 &    0 &    0 &    0 &    0 &   0 &    3 &    0 & ⋯ &  0 &  0 &  0 &  0 &   0 &   0 &   0 &   0 &   0 &   0\\\\\n\tENSG00000278066 &  0 &   0 &    0 &    0 &    0 &    0 &    0 &   0 &    0 &    0 & ⋯ &  0 &  0 &  0 &  0 &   0 &   0 &   0 &   0 &   0 &   0\\\\\n\tENSG00000277374 &  0 &   0 &    0 &    0 &    0 &    0 &    0 &   0 &    0 &    0 & ⋯ &  0 &  0 &  0 &  0 &   0 &   0 &   0 &   0 &   0 &   0\\\\\n\tENSG00000276345 & 32 &   0 &    0 &    0 &    0 &    0 &    0 &   0 &    1 &    0 & ⋯ &  0 & 31 &  0 &  0 &  35 &   0 &   0 & 108 &   0 &   0\\\\\n\tENSG00000273532 &  0 &   0 &    0 &    0 &    0 &    0 &    0 &   0 &    0 &    0 & ⋯ &  0 &  0 &  0 &  0 &   0 &   0 &   0 &   0 &   0 &   0\\\\\n\tENSG00000276351 &  0 &   0 &    0 &    0 &    0 &    0 &    0 &   0 &    0 &    0 & ⋯ &  0 &  0 &  0 &  0 &   0 &   0 &   0 &   0 &   0 &   0\\\\\n\tENSG00000275661 &  0 &   0 &    0 &    0 &    0 &    0 &    0 &   0 &    0 &    0 & ⋯ &  0 &  0 &  0 &  0 &   0 &   0 &   0 &   0 &   0 &   0\\\\\n\tENSG00000277856 & 38 & 174 &  283 & 1365 &  184 &  346 &  920 & 298 & 8427 &  106 & ⋯ &  0 & 76 & 18 & 31 &  59 &  80 &  86 & 123 &  30 & 113\\\\\n\tENSG00000275063 & 56 & 151 & 1313 & 5028 & 2240 & 5159 & 2878 & 107 & 1685 & 1950 & ⋯ & 37 & 58 & 90 & 45 & 369 & 895 & 180 & 141 & 138 & 927\\\\\n\tENSG00000271254 & 40 &  31 &   56 &   42 &   42 &   66 &   40 &  24 &   32 &   49 & ⋯ & 62 & 48 & 88 & 38 &  63 &  62 &  83 &  30 &  60 &  77\\\\\n\tENSG00000275405 & 31 &  22 &   13 &   19 &    5 &    4 &   18 &   6 &    6 &    4 & ⋯ &  8 &  6 & 14 & 15 &   2 &   2 &   7 &   5 &  15 &   3\\\\\n\tENSG00000275987 &  0 &   0 &    0 &    0 &    0 &    0 &    0 &   0 &    0 &    0 & ⋯ &  0 &  0 &  0 &  0 &   0 &   0 &   0 &   0 &   0 &   0\\\\\n\tENSG00000277475 &  0 &   0 &    0 &    0 &    1 &    0 &    0 &   0 &    2 &    0 & ⋯ &  0 &  0 &  0 &  0 &   1 &   0 &   0 &   0 &   0 &   0\\\\\n\tENSG00000268674 &  0 &   0 &    0 &    0 &    0 &    0 &    0 &   0 &    0 &    0 & ⋯ &  0 &  0 &  0 &  0 &   0 &   0 &   0 &   0 &   0 &   0\\\\\n\\end{tabular}\n",
            "text/plain": [
              "                S145_nCOV001_C S147_nCoV001EUHM.Draw.1 S149_nCoV002EUHM.Draw.2\n",
              "ENSG00000223972  0              0                       0                     \n",
              "ENSG00000227232  1              0                       3                     \n",
              "ENSG00000278267  3              1                       2                     \n",
              "ENSG00000243485  2              0                       0                     \n",
              "ENSG00000284332  0              0                       0                     \n",
              "ENSG00000237613  0              0                       0                     \n",
              "ENSG00000268020  0              0                       0                     \n",
              "ENSG00000240361  1              0                       0                     \n",
              "ENSG00000186092  0              0                       0                     \n",
              "ENSG00000238009  1              0                       0                     \n",
              "ENSG00000239945  0              0                       0                     \n",
              "ENSG00000233750  1              1                       0                     \n",
              "ENSG00000268903 18             10                       4                     \n",
              "ENSG00000269981 11              1                       5                     \n",
              "ENSG00000239906  0              0                       0                     \n",
              "ENSG00000241860  1              0                       2                     \n",
              "ENSG00000222623  0              0                       0                     \n",
              "ENSG00000241599  0              0                       0                     \n",
              "ENSG00000279928  4              5                       7                     \n",
              "ENSG00000279457 29             44                      16                     \n",
              "ENSG00000273874  0              0                       0                     \n",
              "ENSG00000228463  3              1                       4                     \n",
              "ENSG00000286448  0              1                       1                     \n",
              "ENSG00000236679  0              0                       0                     \n",
              "ENSG00000236601  0              0                       0                     \n",
              "ENSG00000237094 10              4                       4                     \n",
              "ENSG00000269732  0              0                       0                     \n",
              "ENSG00000284733  0              0                       0                     \n",
              "ENSG00000233653  0              0                       0                     \n",
              "ENSG00000250575  0              0                       0                     \n",
              "⋮               ⋮              ⋮                       ⋮                      \n",
              "ENSG00000276312  0               0                        0                   \n",
              "ENSG00000275757  0               0                        0                   \n",
              "ENSG00000273748 62               7                        4                   \n",
              "ENSG00000274202  0               0                        0                   \n",
              "ENSG00000278625  0               0                        0                   \n",
              "ENSG00000278573  0               0                        0                   \n",
              "ENSG00000276017  0               0                        0                   \n",
              "ENSG00000278817  6              10                        8                   \n",
              "ENSG00000277196  1               1                        1                   \n",
              "ENSG00000277630  0               0                        0                   \n",
              "ENSG00000278793  0               0                        0                   \n",
              "ENSG00000276197  0               0                        0                   \n",
              "ENSG00000274917  0               0                        0                   \n",
              "ENSG00000273937  0               0                        0                   \n",
              "ENSG00000273730  0               0                        0                   \n",
              "ENSG00000278384  3              16                        7                   \n",
              "ENSG00000278633  0               0                        0                   \n",
              "ENSG00000278066  0               0                        0                   \n",
              "ENSG00000277374  0               0                        0                   \n",
              "ENSG00000276345 32               0                        0                   \n",
              "ENSG00000273532  0               0                        0                   \n",
              "ENSG00000276351  0               0                        0                   \n",
              "ENSG00000275661  0               0                        0                   \n",
              "ENSG00000277856 38             174                      283                   \n",
              "ENSG00000275063 56             151                     1313                   \n",
              "ENSG00000271254 40              31                       56                   \n",
              "ENSG00000275405 31              22                       13                   \n",
              "ENSG00000275987  0               0                        0                   \n",
              "ENSG00000277475  0               0                        0                   \n",
              "ENSG00000268674  0               0                        0                   \n",
              "                S150_nCoV003EUHM.Draw.1 S151_nCoV004EUHM.Draw.1\n",
              "ENSG00000223972  0                       0                     \n",
              "ENSG00000227232 16                       1                     \n",
              "ENSG00000278267  0                       3                     \n",
              "ENSG00000243485  1                       0                     \n",
              "ENSG00000284332  0                       0                     \n",
              "ENSG00000237613  0                       0                     \n",
              "ENSG00000268020  0                       0                     \n",
              "ENSG00000240361  0                       0                     \n",
              "ENSG00000186092  0                       0                     \n",
              "ENSG00000238009  0                       0                     \n",
              "ENSG00000239945  0                       0                     \n",
              "ENSG00000233750  1                       1                     \n",
              "ENSG00000268903  8                      33                     \n",
              "ENSG00000269981  7                      23                     \n",
              "ENSG00000239906  0                       1                     \n",
              "ENSG00000241860  1                       7                     \n",
              "ENSG00000222623  0                       0                     \n",
              "ENSG00000241599  0                       0                     \n",
              "ENSG00000279928 11                       0                     \n",
              "ENSG00000279457 15                      24                     \n",
              "ENSG00000273874  0                       0                     \n",
              "ENSG00000228463  1                       0                     \n",
              "ENSG00000286448  0                       0                     \n",
              "ENSG00000236679  0                       0                     \n",
              "ENSG00000236601  0                       0                     \n",
              "ENSG00000237094  1                       7                     \n",
              "ENSG00000269732  0                       0                     \n",
              "ENSG00000284733  0                       0                     \n",
              "ENSG00000233653  0                       0                     \n",
              "ENSG00000250575  0                       0                     \n",
              "⋮               ⋮                       ⋮                      \n",
              "ENSG00000276312    0                       0                   \n",
              "ENSG00000275757    0                       0                   \n",
              "ENSG00000273748   39                       6                   \n",
              "ENSG00000274202    0                       0                   \n",
              "ENSG00000278625    0                       0                   \n",
              "ENSG00000278573    0                       0                   \n",
              "ENSG00000276017    0                       0                   \n",
              "ENSG00000278817    4                       7                   \n",
              "ENSG00000277196    1                       0                   \n",
              "ENSG00000277630    0                       0                   \n",
              "ENSG00000278793    0                       0                   \n",
              "ENSG00000276197    0                       0                   \n",
              "ENSG00000274917    0                       0                   \n",
              "ENSG00000273937    0                       0                   \n",
              "ENSG00000273730    0                       0                   \n",
              "ENSG00000278384    5                       1                   \n",
              "ENSG00000278633    0                       0                   \n",
              "ENSG00000278066    0                       0                   \n",
              "ENSG00000277374    0                       0                   \n",
              "ENSG00000276345    0                       0                   \n",
              "ENSG00000273532    0                       0                   \n",
              "ENSG00000276351    0                       0                   \n",
              "ENSG00000275661    0                       0                   \n",
              "ENSG00000277856 1365                     184                   \n",
              "ENSG00000275063 5028                    2240                   \n",
              "ENSG00000271254   42                      42                   \n",
              "ENSG00000275405   19                       5                   \n",
              "ENSG00000275987    0                       0                   \n",
              "ENSG00000277475    0                       1                   \n",
              "ENSG00000268674    0                       0                   \n",
              "                S152_nCoV006EUHM.Draw.1 S153_nCoV007EUHM.Draw.1\n",
              "ENSG00000223972  0                       0                     \n",
              "ENSG00000227232  2                      18                     \n",
              "ENSG00000278267  0                       0                     \n",
              "ENSG00000243485  0                       0                     \n",
              "ENSG00000284332  0                       0                     \n",
              "ENSG00000237613  0                       0                     \n",
              "ENSG00000268020  0                       0                     \n",
              "ENSG00000240361  0                       0                     \n",
              "ENSG00000186092  0                       0                     \n",
              "ENSG00000238009  0                       0                     \n",
              "ENSG00000239945  0                       0                     \n",
              "ENSG00000233750  0                       0                     \n",
              "ENSG00000268903 10                       8                     \n",
              "ENSG00000269981  1                       4                     \n",
              "ENSG00000239906  0                       0                     \n",
              "ENSG00000241860  2                       2                     \n",
              "ENSG00000222623  0                       0                     \n",
              "ENSG00000241599  0                       2                     \n",
              "ENSG00000279928  2                       4                     \n",
              "ENSG00000279457 13                      41                     \n",
              "ENSG00000273874  0                       0                     \n",
              "ENSG00000228463  2                       0                     \n",
              "ENSG00000286448  0                       0                     \n",
              "ENSG00000236679  0                       0                     \n",
              "ENSG00000236601  0                       0                     \n",
              "ENSG00000237094  4                       3                     \n",
              "ENSG00000269732  0                       0                     \n",
              "ENSG00000284733  0                       0                     \n",
              "ENSG00000233653  0                       0                     \n",
              "ENSG00000250575  0                       0                     \n",
              "⋮               ⋮                       ⋮                      \n",
              "ENSG00000276312    0                       0                   \n",
              "ENSG00000275757    0                       0                   \n",
              "ENSG00000273748   14                       4                   \n",
              "ENSG00000274202    0                       0                   \n",
              "ENSG00000278625    0                       0                   \n",
              "ENSG00000278573    0                       0                   \n",
              "ENSG00000276017    0                       0                   \n",
              "ENSG00000278817    7                       5                   \n",
              "ENSG00000277196    0                       1                   \n",
              "ENSG00000277630    0                       0                   \n",
              "ENSG00000278793    0                       0                   \n",
              "ENSG00000276197    0                       0                   \n",
              "ENSG00000274917    0                       0                   \n",
              "ENSG00000273937    0                       0                   \n",
              "ENSG00000273730    0                       0                   \n",
              "ENSG00000278384    2                       5                   \n",
              "ENSG00000278633    0                       0                   \n",
              "ENSG00000278066    0                       0                   \n",
              "ENSG00000277374    0                       0                   \n",
              "ENSG00000276345    0                       0                   \n",
              "ENSG00000273532    0                       0                   \n",
              "ENSG00000276351    0                       0                   \n",
              "ENSG00000275661    0                       0                   \n",
              "ENSG00000277856  346                     920                   \n",
              "ENSG00000275063 5159                    2878                   \n",
              "ENSG00000271254   66                      40                   \n",
              "ENSG00000275405    4                      18                   \n",
              "ENSG00000275987    0                       0                   \n",
              "ENSG00000277475    0                       0                   \n",
              "ENSG00000268674    0                       0                   \n",
              "                S154_nCoV0010EUHM.Draw.1 S155_nCOV021EUHM\n",
              "ENSG00000223972  0                        2              \n",
              "ENSG00000227232  6                       20              \n",
              "ENSG00000278267  1                        3              \n",
              "ENSG00000243485  0                        0              \n",
              "ENSG00000284332  0                        0              \n",
              "ENSG00000237613  0                        0              \n",
              "ENSG00000268020  0                        0              \n",
              "ENSG00000240361  0                        0              \n",
              "ENSG00000186092  1                        1              \n",
              "ENSG00000238009  0                        1              \n",
              "ENSG00000239945  0                        0              \n",
              "ENSG00000233750  2                        0              \n",
              "ENSG00000268903 13                       27              \n",
              "ENSG00000269981 18                       18              \n",
              "ENSG00000239906  0                        0              \n",
              "ENSG00000241860  2                        3              \n",
              "ENSG00000222623  0                        0              \n",
              "ENSG00000241599  0                        0              \n",
              "ENSG00000279928  3                        1              \n",
              "ENSG00000279457 25                       39              \n",
              "ENSG00000273874  0                        0              \n",
              "ENSG00000228463  5                        1              \n",
              "ENSG00000286448  1                        0              \n",
              "ENSG00000236679  0                        0              \n",
              "ENSG00000236601  0                        0              \n",
              "ENSG00000237094  5                        3              \n",
              "ENSG00000269732  0                        0              \n",
              "ENSG00000284733  0                        0              \n",
              "ENSG00000233653  0                        0              \n",
              "ENSG00000250575  0                        0              \n",
              "⋮               ⋮                        ⋮               \n",
              "ENSG00000276312   0                         0            \n",
              "ENSG00000275757   0                         0            \n",
              "ENSG00000273748   8                        10            \n",
              "ENSG00000274202   0                         0            \n",
              "ENSG00000278625   0                         0            \n",
              "ENSG00000278573   0                         0            \n",
              "ENSG00000276017   0                         5            \n",
              "ENSG00000278817   6                         3            \n",
              "ENSG00000277196   0                         1            \n",
              "ENSG00000277630   0                         0            \n",
              "ENSG00000278793   0                         0            \n",
              "ENSG00000276197   0                         0            \n",
              "ENSG00000274917   0                         0            \n",
              "ENSG00000273937   0                         0            \n",
              "ENSG00000273730   0                         0            \n",
              "ENSG00000278384   3                         1            \n",
              "ENSG00000278633   0                         3            \n",
              "ENSG00000278066   0                         0            \n",
              "ENSG00000277374   0                         0            \n",
              "ENSG00000276345   0                         1            \n",
              "ENSG00000273532   0                         0            \n",
              "ENSG00000276351   0                         0            \n",
              "ENSG00000275661   0                         0            \n",
              "ENSG00000277856 298                      8427            \n",
              "ENSG00000275063 107                      1685            \n",
              "ENSG00000271254  24                        32            \n",
              "ENSG00000275405   6                         6            \n",
              "ENSG00000275987   0                         0            \n",
              "ENSG00000277475   0                         2            \n",
              "ENSG00000268674   0                         0            \n",
              "                S156_nCOV024EUHM.Draw.1 ⋯ S068_272 S069_273 S070_279 S071_280\n",
              "ENSG00000223972  0                      ⋯  0        0        0        0      \n",
              "ENSG00000227232  0                      ⋯  1        1        1        2      \n",
              "ENSG00000278267  2                      ⋯  2        7        2        6      \n",
              "ENSG00000243485  0                      ⋯  0        0        0        1      \n",
              "ENSG00000284332  0                      ⋯  0        0        0        0      \n",
              "ENSG00000237613  0                      ⋯  0        0        0        0      \n",
              "ENSG00000268020  0                      ⋯  0        0        0        0      \n",
              "ENSG00000240361  0                      ⋯  0        0        0        0      \n",
              "ENSG00000186092  0                      ⋯  0        3        0        0      \n",
              "ENSG00000238009  0                      ⋯  0        0        0        0      \n",
              "ENSG00000239945  0                      ⋯  0        0        0        0      \n",
              "ENSG00000233750  0                      ⋯  0        1        0        1      \n",
              "ENSG00000268903 19                      ⋯  6        8        6       14      \n",
              "ENSG00000269981 24                      ⋯  6        8        5       14      \n",
              "ENSG00000239906  0                      ⋯  0        0        0        0      \n",
              "ENSG00000241860  5                      ⋯  5        2        1        6      \n",
              "ENSG00000222623  0                      ⋯  0        0        0        0      \n",
              "ENSG00000241599  0                      ⋯  0        0        0        0      \n",
              "ENSG00000279928  3                      ⋯ 14        5        7        9      \n",
              "ENSG00000279457 20                      ⋯ 35       34       58       44      \n",
              "ENSG00000273874  0                      ⋯  0        0        0        0      \n",
              "ENSG00000228463  3                      ⋯  4        5        2        1      \n",
              "ENSG00000286448  0                      ⋯  0        0        0        0      \n",
              "ENSG00000236679  0                      ⋯  0        0        0        0      \n",
              "ENSG00000236601  0                      ⋯  0        0        0        0      \n",
              "ENSG00000237094  8                      ⋯  1        8        0        2      \n",
              "ENSG00000269732  0                      ⋯  0        0        0        0      \n",
              "ENSG00000284733  0                      ⋯  0        0        0        0      \n",
              "ENSG00000233653  0                      ⋯  0        0        0        0      \n",
              "ENSG00000250575  0                      ⋯  0        0        0        0      \n",
              "⋮               ⋮                       ⋱ ⋮        ⋮        ⋮        ⋮       \n",
              "ENSG00000276312    0                    ⋯  0        0        0        0      \n",
              "ENSG00000275757    0                    ⋯  0        0        0        0      \n",
              "ENSG00000273748   14                    ⋯ 34       49       34       61      \n",
              "ENSG00000274202    0                    ⋯  0        0        0        0      \n",
              "ENSG00000278625    0                    ⋯  0        0        0        0      \n",
              "ENSG00000278573    0                    ⋯  0        0        0        0      \n",
              "ENSG00000276017    0                    ⋯  0        0        0        0      \n",
              "ENSG00000278817    0                    ⋯  3       10       11        5      \n",
              "ENSG00000277196    0                    ⋯  1        1        2        4      \n",
              "ENSG00000277630    0                    ⋯  0        0        0        0      \n",
              "ENSG00000278793    0                    ⋯  0        0        0        0      \n",
              "ENSG00000276197    0                    ⋯  0        0        0        0      \n",
              "ENSG00000274917    0                    ⋯  0        0        0        0      \n",
              "ENSG00000273937    0                    ⋯  0        0        0        0      \n",
              "ENSG00000273730    0                    ⋯  0        0        0        0      \n",
              "ENSG00000278384    0                    ⋯ 11        1       14        3      \n",
              "ENSG00000278633    0                    ⋯  0        0        0        0      \n",
              "ENSG00000278066    0                    ⋯  0        0        0        0      \n",
              "ENSG00000277374    0                    ⋯  0        0        0        0      \n",
              "ENSG00000276345    0                    ⋯  0       31        0        0      \n",
              "ENSG00000273532    0                    ⋯  0        0        0        0      \n",
              "ENSG00000276351    0                    ⋯  0        0        0        0      \n",
              "ENSG00000275661    0                    ⋯  0        0        0        0      \n",
              "ENSG00000277856  106                    ⋯  0       76       18       31      \n",
              "ENSG00000275063 1950                    ⋯ 37       58       90       45      \n",
              "ENSG00000271254   49                    ⋯ 62       48       88       38      \n",
              "ENSG00000275405    4                    ⋯  8        6       14       15      \n",
              "ENSG00000275987    0                    ⋯  0        0        0        0      \n",
              "ENSG00000277475    0                    ⋯  0        0        0        0      \n",
              "ENSG00000268674    0                    ⋯  0        0        0        0      \n",
              "                S181_255 S182_SHXA10 S183_263 S184_SHXA18 S185_266 S186_SHXA14\n",
              "ENSG00000223972  0        0           0        0           0        0         \n",
              "ENSG00000227232  3        4           1        0           0        7         \n",
              "ENSG00000278267  3        2           6       12           5        3         \n",
              "ENSG00000243485  0        0           0        0           0        0         \n",
              "ENSG00000284332  0        0           0        0           0        0         \n",
              "ENSG00000237613  0        0           0        0           0        0         \n",
              "ENSG00000268020  0        0           0        0           0        0         \n",
              "ENSG00000240361  0        0           0        0           0        0         \n",
              "ENSG00000186092  0        0           0        0           0        0         \n",
              "ENSG00000238009  1        1           0        0           0        0         \n",
              "ENSG00000239945  0        0           0        0           0        0         \n",
              "ENSG00000233750  0        1           1        0           1        1         \n",
              "ENSG00000268903  8       10           6        5           7       14         \n",
              "ENSG00000269981  6       16           4        7           1       13         \n",
              "ENSG00000239906  0        2           0        0           0        0         \n",
              "ENSG00000241860  1       10           2        6           0        5         \n",
              "ENSG00000222623  0        0           0        0           0        0         \n",
              "ENSG00000241599  0        0           0        0           0        1         \n",
              "ENSG00000279928  1        5           8        7          11        7         \n",
              "ENSG00000279457 24       15          35       62          37        7         \n",
              "ENSG00000273874  0        0           0        0           0        0         \n",
              "ENSG00000228463  1        1           3        6           0        3         \n",
              "ENSG00000286448  0        0           0        0           0        0         \n",
              "ENSG00000236679  0        0           0        0           0        0         \n",
              "ENSG00000236601  0        0           0        0           0        0         \n",
              "ENSG00000237094  6       10           3        2           4        8         \n",
              "ENSG00000269732  0        0           0        0           0        0         \n",
              "ENSG00000284733  0        0           0        0           0        0         \n",
              "ENSG00000233653  0        0           0        0           0        0         \n",
              "ENSG00000250575  0        0           0        0           0        0         \n",
              "⋮               ⋮        ⋮           ⋮        ⋮           ⋮        ⋮          \n",
              "ENSG00000276312   0        0           0        0           0        0        \n",
              "ENSG00000275757   0        0           0        0           0        0        \n",
              "ENSG00000273748  29       27           0       51          34       12        \n",
              "ENSG00000274202   0        0           0        0           0        0        \n",
              "ENSG00000278625   0        2           0        0           0        1        \n",
              "ENSG00000278573   0        0           0        0           0        0        \n",
              "ENSG00000276017   0        0           0        0           0        0        \n",
              "ENSG00000278817   3       12           7       15           9        7        \n",
              "ENSG00000277196   3        2           2        4           0        0        \n",
              "ENSG00000277630   0        1           0        0           0        0        \n",
              "ENSG00000278793   0        0           0        0           0        0        \n",
              "ENSG00000276197   0        0           0        0           0        0        \n",
              "ENSG00000274917   0        0           0        0           0        0        \n",
              "ENSG00000273937   0        0           0        0           0        0        \n",
              "ENSG00000273730   0        0           0        0           0        0        \n",
              "ENSG00000278384   2        0           8        1           0        0        \n",
              "ENSG00000278633   0        0           0        0           0        0        \n",
              "ENSG00000278066   0        0           0        0           0        0        \n",
              "ENSG00000277374   0        0           0        0           0        0        \n",
              "ENSG00000276345  35        0           0      108           0        0        \n",
              "ENSG00000273532   0        0           0        0           0        0        \n",
              "ENSG00000276351   0        0           0        0           0        0        \n",
              "ENSG00000275661   0        0           0        0           0        0        \n",
              "ENSG00000277856  59       80          86      123          30      113        \n",
              "ENSG00000275063 369      895         180      141         138      927        \n",
              "ENSG00000271254  63       62          83       30          60       77        \n",
              "ENSG00000275405   2        2           7        5          15        3        \n",
              "ENSG00000275987   0        0           0        0           0        0        \n",
              "ENSG00000277475   1        0           0        0           0        0        \n",
              "ENSG00000268674   0        0           0        0           0        0        "
            ]
          },
          "metadata": {}
        },
        {
          "output_type": "display_data",
          "data": {
            "text/html": [
              "<style>\n",
              ".list-inline {list-style: none; margin:0; padding: 0}\n",
              ".list-inline>li {display: inline-block}\n",
              ".list-inline>li:not(:last-child)::after {content: \"\\00b7\"; padding: 0 .5ex}\n",
              "</style>\n",
              "<ol class=list-inline><li>60683</li><li>34</li></ol>\n"
            ],
            "text/markdown": "1. 60683\n2. 34\n\n\n",
            "text/latex": "\\begin{enumerate*}\n\\item 60683\n\\item 34\n\\end{enumerate*}\n",
            "text/plain": [
              "[1] 60683    34"
            ]
          },
          "metadata": {}
        },
        {
          "output_type": "display_data",
          "data": {
            "text/html": [
              "'data.frame'"
            ],
            "text/markdown": "'data.frame'",
            "text/latex": "'data.frame'",
            "text/plain": [
              "[1] \"data.frame\""
            ]
          },
          "metadata": {}
        }
      ]
    },
    {
      "cell_type": "code",
      "source": [
        "raw_count_matrix <- as.matrix.data.frame(raw_count)\n",
        "str(raw_count_matrix)"
      ],
      "metadata": {
        "colab": {
          "base_uri": "https://localhost:8080/"
        },
        "id": "WJzw2fAhEpGQ",
        "outputId": "7db8ec29-4700-44af-97bf-676363063165"
      },
      "execution_count": null,
      "outputs": [
        {
          "output_type": "stream",
          "name": "stdout",
          "text": [
            " int [1:60683, 1:34] 0 1 3 2 0 0 0 1 0 1 ...\n",
            " - attr(*, \"dimnames\")=List of 2\n",
            "  ..$ : chr [1:60683] \"ENSG00000223972\" \"ENSG00000227232\" \"ENSG00000278267\" \"ENSG00000243485\" ...\n",
            "  ..$ : chr [1:34] \"S145_nCOV001_C\" \"S147_nCoV001EUHM.Draw.1\" \"S149_nCoV002EUHM.Draw.2\" \"S150_nCoV003EUHM.Draw.1\" ...\n"
          ]
        }
      ]
    },
    {
      "cell_type": "markdown",
      "source": [
        "# **[1] Preprocessing**\n",
        "input data를 만들기 위한 전처리 과정"
      ],
      "metadata": {
        "id": "WgYEFDg8C6hf"
      }
    },
    {
      "cell_type": "code",
      "source": [
        "colnames(raw_count)"
      ],
      "metadata": {
        "colab": {
          "base_uri": "https://localhost:8080/",
          "height": 104
        },
        "id": "IbzMuTl5CGwZ",
        "outputId": "a92e3fe2-2dba-4efb-b88d-6a15b6ab976b"
      },
      "execution_count": null,
      "outputs": [
        {
          "output_type": "display_data",
          "data": {
            "text/html": [
              "<style>\n",
              ".list-inline {list-style: none; margin:0; padding: 0}\n",
              ".list-inline>li {display: inline-block}\n",
              ".list-inline>li:not(:last-child)::after {content: \"\\00b7\"; padding: 0 .5ex}\n",
              "</style>\n",
              "<ol class=list-inline><li>'S145_nCOV001_C'</li><li>'S147_nCoV001EUHM.Draw.1'</li><li>'S149_nCoV002EUHM.Draw.2'</li><li>'S150_nCoV003EUHM.Draw.1'</li><li>'S151_nCoV004EUHM.Draw.1'</li><li>'S152_nCoV006EUHM.Draw.1'</li><li>'S153_nCoV007EUHM.Draw.1'</li><li>'S154_nCoV0010EUHM.Draw.1'</li><li>'S155_nCOV021EUHM'</li><li>'S156_nCOV024EUHM.Draw.1'</li><li>'S157_nCOV0029EUHM'</li><li>'S175_nCoV024EUHM.Draw.2'</li><li>'S176_nCoV025EUHM.Draw.1'</li><li>'S177_nCoV025EUHM.Draw.2'</li><li>'S178_nCoV028EUHM.Draw.1'</li><li>'S179_nCoV033EUHM.Draw.1'</li><li>'S180_nCoV034EUHM.Draw.1'</li><li>'S061_257'</li><li>'S062_258'</li><li>'S063_259'</li><li>'S064_260'</li><li>'S065_261'</li><li>'S066_265'</li><li>'S067_270'</li><li>'S068_272'</li><li>'S069_273'</li><li>'S070_279'</li><li>'S071_280'</li><li>'S181_255'</li><li>'S182_SHXA10'</li><li>'S183_263'</li><li>'S184_SHXA18'</li><li>'S185_266'</li><li>'S186_SHXA14'</li></ol>\n"
            ],
            "text/markdown": "1. 'S145_nCOV001_C'\n2. 'S147_nCoV001EUHM.Draw.1'\n3. 'S149_nCoV002EUHM.Draw.2'\n4. 'S150_nCoV003EUHM.Draw.1'\n5. 'S151_nCoV004EUHM.Draw.1'\n6. 'S152_nCoV006EUHM.Draw.1'\n7. 'S153_nCoV007EUHM.Draw.1'\n8. 'S154_nCoV0010EUHM.Draw.1'\n9. 'S155_nCOV021EUHM'\n10. 'S156_nCOV024EUHM.Draw.1'\n11. 'S157_nCOV0029EUHM'\n12. 'S175_nCoV024EUHM.Draw.2'\n13. 'S176_nCoV025EUHM.Draw.1'\n14. 'S177_nCoV025EUHM.Draw.2'\n15. 'S178_nCoV028EUHM.Draw.1'\n16. 'S179_nCoV033EUHM.Draw.1'\n17. 'S180_nCoV034EUHM.Draw.1'\n18. 'S061_257'\n19. 'S062_258'\n20. 'S063_259'\n21. 'S064_260'\n22. 'S065_261'\n23. 'S066_265'\n24. 'S067_270'\n25. 'S068_272'\n26. 'S069_273'\n27. 'S070_279'\n28. 'S071_280'\n29. 'S181_255'\n30. 'S182_SHXA10'\n31. 'S183_263'\n32. 'S184_SHXA18'\n33. 'S185_266'\n34. 'S186_SHXA14'\n\n\n",
            "text/latex": "\\begin{enumerate*}\n\\item 'S145\\_nCOV001\\_C'\n\\item 'S147\\_nCoV001EUHM.Draw.1'\n\\item 'S149\\_nCoV002EUHM.Draw.2'\n\\item 'S150\\_nCoV003EUHM.Draw.1'\n\\item 'S151\\_nCoV004EUHM.Draw.1'\n\\item 'S152\\_nCoV006EUHM.Draw.1'\n\\item 'S153\\_nCoV007EUHM.Draw.1'\n\\item 'S154\\_nCoV0010EUHM.Draw.1'\n\\item 'S155\\_nCOV021EUHM'\n\\item 'S156\\_nCOV024EUHM.Draw.1'\n\\item 'S157\\_nCOV0029EUHM'\n\\item 'S175\\_nCoV024EUHM.Draw.2'\n\\item 'S176\\_nCoV025EUHM.Draw.1'\n\\item 'S177\\_nCoV025EUHM.Draw.2'\n\\item 'S178\\_nCoV028EUHM.Draw.1'\n\\item 'S179\\_nCoV033EUHM.Draw.1'\n\\item 'S180\\_nCoV034EUHM.Draw.1'\n\\item 'S061\\_257'\n\\item 'S062\\_258'\n\\item 'S063\\_259'\n\\item 'S064\\_260'\n\\item 'S065\\_261'\n\\item 'S066\\_265'\n\\item 'S067\\_270'\n\\item 'S068\\_272'\n\\item 'S069\\_273'\n\\item 'S070\\_279'\n\\item 'S071\\_280'\n\\item 'S181\\_255'\n\\item 'S182\\_SHXA10'\n\\item 'S183\\_263'\n\\item 'S184\\_SHXA18'\n\\item 'S185\\_266'\n\\item 'S186\\_SHXA14'\n\\end{enumerate*}\n",
            "text/plain": [
              " [1] \"S145_nCOV001_C\"           \"S147_nCoV001EUHM.Draw.1\" \n",
              " [3] \"S149_nCoV002EUHM.Draw.2\"  \"S150_nCoV003EUHM.Draw.1\" \n",
              " [5] \"S151_nCoV004EUHM.Draw.1\"  \"S152_nCoV006EUHM.Draw.1\" \n",
              " [7] \"S153_nCoV007EUHM.Draw.1\"  \"S154_nCoV0010EUHM.Draw.1\"\n",
              " [9] \"S155_nCOV021EUHM\"         \"S156_nCOV024EUHM.Draw.1\" \n",
              "[11] \"S157_nCOV0029EUHM\"        \"S175_nCoV024EUHM.Draw.2\" \n",
              "[13] \"S176_nCoV025EUHM.Draw.1\"  \"S177_nCoV025EUHM.Draw.2\" \n",
              "[15] \"S178_nCoV028EUHM.Draw.1\"  \"S179_nCoV033EUHM.Draw.1\" \n",
              "[17] \"S180_nCoV034EUHM.Draw.1\"  \"S061_257\"                \n",
              "[19] \"S062_258\"                 \"S063_259\"                \n",
              "[21] \"S064_260\"                 \"S065_261\"                \n",
              "[23] \"S066_265\"                 \"S067_270\"                \n",
              "[25] \"S068_272\"                 \"S069_273\"                \n",
              "[27] \"S070_279\"                 \"S071_280\"                \n",
              "[29] \"S181_255\"                 \"S182_SHXA10\"             \n",
              "[31] \"S183_263\"                 \"S184_SHXA18\"             \n",
              "[33] \"S185_266\"                 \"S186_SHXA14\"             "
            ]
          },
          "metadata": {}
        }
      ]
    },
    {
      "cell_type": "code",
      "source": [
        "col <- colnames(raw_count)\n",
        "group <- col\n",
        "group[grepl('COV',group)|grepl('CoV',group)] <- 'COVID19'\n",
        "group[!grepl('COV',group) & !grepl('CoV',group)] <- 'Healthy'"
      ],
      "metadata": {
        "id": "G9PeXY9ACG73"
      },
      "execution_count": null,
      "outputs": []
    },
    {
      "cell_type": "code",
      "source": [
        "group <- factor(group, levels = c('Healthy','COVID19'))  # 첫번째가 reference level이 됨"
      ],
      "metadata": {
        "id": "RlLNfT1UFAz8"
      },
      "execution_count": null,
      "outputs": []
    },
    {
      "cell_type": "code",
      "source": [
        "group\n",
        "str(group)\n",
        "table(group)"
      ],
      "metadata": {
        "colab": {
          "base_uri": "https://localhost:8080/",
          "height": 142
        },
        "id": "8Vpf15sLCHCn",
        "outputId": "843bb6e6-1630-45fe-95b4-a9f86bad3477"
      },
      "execution_count": null,
      "outputs": [
        {
          "output_type": "display_data",
          "data": {
            "text/html": [
              "<style>\n",
              ".list-inline {list-style: none; margin:0; padding: 0}\n",
              ".list-inline>li {display: inline-block}\n",
              ".list-inline>li:not(:last-child)::after {content: \"\\00b7\"; padding: 0 .5ex}\n",
              "</style>\n",
              "<ol class=list-inline><li>COVID19</li><li>COVID19</li><li>COVID19</li><li>COVID19</li><li>COVID19</li><li>COVID19</li><li>COVID19</li><li>COVID19</li><li>COVID19</li><li>COVID19</li><li>COVID19</li><li>COVID19</li><li>COVID19</li><li>COVID19</li><li>COVID19</li><li>COVID19</li><li>COVID19</li><li>Healthy</li><li>Healthy</li><li>Healthy</li><li>Healthy</li><li>Healthy</li><li>Healthy</li><li>Healthy</li><li>Healthy</li><li>Healthy</li><li>Healthy</li><li>Healthy</li><li>Healthy</li><li>Healthy</li><li>Healthy</li><li>Healthy</li><li>Healthy</li><li>Healthy</li></ol>\n",
              "\n",
              "<details>\n",
              "\t<summary style=display:list-item;cursor:pointer>\n",
              "\t\t<strong>Levels</strong>:\n",
              "\t</summary>\n",
              "\t<style>\n",
              "\t.list-inline {list-style: none; margin:0; padding: 0}\n",
              "\t.list-inline>li {display: inline-block}\n",
              "\t.list-inline>li:not(:last-child)::after {content: \"\\00b7\"; padding: 0 .5ex}\n",
              "\t</style>\n",
              "\t<ol class=list-inline><li>'Healthy'</li><li>'COVID19'</li></ol>\n",
              "</details>"
            ],
            "text/markdown": "1. COVID19\n2. COVID19\n3. COVID19\n4. COVID19\n5. COVID19\n6. COVID19\n7. COVID19\n8. COVID19\n9. COVID19\n10. COVID19\n11. COVID19\n12. COVID19\n13. COVID19\n14. COVID19\n15. COVID19\n16. COVID19\n17. COVID19\n18. Healthy\n19. Healthy\n20. Healthy\n21. Healthy\n22. Healthy\n23. Healthy\n24. Healthy\n25. Healthy\n26. Healthy\n27. Healthy\n28. Healthy\n29. Healthy\n30. Healthy\n31. Healthy\n32. Healthy\n33. Healthy\n34. Healthy\n\n\n\n**Levels**: 1. 'Healthy'\n2. 'COVID19'\n\n\n",
            "text/latex": "\\begin{enumerate*}\n\\item COVID19\n\\item COVID19\n\\item COVID19\n\\item COVID19\n\\item COVID19\n\\item COVID19\n\\item COVID19\n\\item COVID19\n\\item COVID19\n\\item COVID19\n\\item COVID19\n\\item COVID19\n\\item COVID19\n\\item COVID19\n\\item COVID19\n\\item COVID19\n\\item COVID19\n\\item Healthy\n\\item Healthy\n\\item Healthy\n\\item Healthy\n\\item Healthy\n\\item Healthy\n\\item Healthy\n\\item Healthy\n\\item Healthy\n\\item Healthy\n\\item Healthy\n\\item Healthy\n\\item Healthy\n\\item Healthy\n\\item Healthy\n\\item Healthy\n\\item Healthy\n\\end{enumerate*}\n\n\\emph{Levels}: \\begin{enumerate*}\n\\item 'Healthy'\n\\item 'COVID19'\n\\end{enumerate*}\n",
            "text/plain": [
              " [1] COVID19 COVID19 COVID19 COVID19 COVID19 COVID19 COVID19 COVID19 COVID19\n",
              "[10] COVID19 COVID19 COVID19 COVID19 COVID19 COVID19 COVID19 COVID19 Healthy\n",
              "[19] Healthy Healthy Healthy Healthy Healthy Healthy Healthy Healthy Healthy\n",
              "[28] Healthy Healthy Healthy Healthy Healthy Healthy Healthy\n",
              "Levels: Healthy COVID19"
            ]
          },
          "metadata": {}
        },
        {
          "output_type": "stream",
          "name": "stdout",
          "text": [
            " Factor w/ 2 levels \"Healthy\",\"COVID19\": 2 2 2 2 2 2 2 2 2 2 ...\n"
          ]
        },
        {
          "output_type": "display_data",
          "data": {
            "text/plain": [
              "group\n",
              "Healthy COVID19 \n",
              "     17      17 "
            ]
          },
          "metadata": {}
        }
      ]
    },
    {
      "cell_type": "code",
      "source": [
        "colData = data.frame(sample = col, group = group)"
      ],
      "metadata": {
        "id": "aPu-ytWoCHE9"
      },
      "execution_count": null,
      "outputs": []
    },
    {
      "cell_type": "code",
      "source": [
        "dds <- DESeqDataSetFromMatrix(raw_count_matrix, colData = colData, design = ~group)"
      ],
      "metadata": {
        "id": "fXE7rAR1Dkra"
      },
      "execution_count": null,
      "outputs": []
    },
    {
      "cell_type": "code",
      "source": [
        "dds"
      ],
      "metadata": {
        "colab": {
          "base_uri": "https://localhost:8080/",
          "height": 200
        },
        "id": "dcuXiL2-Ffrt",
        "outputId": "eda97711-38ca-41ec-aa40-343495ee992e"
      },
      "execution_count": null,
      "outputs": [
        {
          "output_type": "display_data",
          "data": {
            "text/plain": [
              "class: DESeqDataSet \n",
              "dim: 60683 34 \n",
              "metadata(1): version\n",
              "assays(1): counts\n",
              "rownames(60683): ENSG00000223972 ENSG00000227232 ... ENSG00000277475\n",
              "  ENSG00000268674\n",
              "rowData names(0):\n",
              "colnames(34): S145_nCOV001_C S147_nCoV001EUHM.Draw.1 ... S185_266\n",
              "  S186_SHXA14\n",
              "colData names(2): sample group"
            ]
          },
          "metadata": {}
        }
      ]
    },
    {
      "cell_type": "markdown",
      "source": [
        "#**[2] Filtering**#\n",
        "너무 낮은 발현을 보이는 유전자 제거\n"
      ],
      "metadata": {
        "id": "Hx1k0YW4GSAm"
      }
    },
    {
      "cell_type": "code",
      "source": [
        "keep <- rowSums(counts(dds)) >= 10\n",
        "dds <- dds[keep,]\n",
        "dds"
      ],
      "metadata": {
        "colab": {
          "base_uri": "https://localhost:8080/",
          "height": 200
        },
        "id": "Ctut3JmpGQqV",
        "outputId": "5b5bcfc5-f8f0-4a75-a5fd-809e9b92a985"
      },
      "execution_count": null,
      "outputs": [
        {
          "output_type": "display_data",
          "data": {
            "text/plain": [
              "class: DESeqDataSet \n",
              "dim: 37107 34 \n",
              "metadata(1): version\n",
              "assays(1): counts\n",
              "rownames(37107): ENSG00000227232 ENSG00000278267 ... ENSG00000275405\n",
              "  ENSG00000277475\n",
              "rowData names(0):\n",
              "colnames(34): S145_nCOV001_C S147_nCoV001EUHM.Draw.1 ... S185_266\n",
              "  S186_SHXA14\n",
              "colData names(2): sample group"
            ]
          },
          "metadata": {}
        }
      ]
    },
    {
      "cell_type": "markdown",
      "source": [
        "# **[3] Run DESeq**"
      ],
      "metadata": {
        "id": "ozv85TZ2Hlsa"
      }
    },
    {
      "cell_type": "code",
      "source": [
        "dds <- DESeq(dds)"
      ],
      "metadata": {
        "colab": {
          "base_uri": "https://localhost:8080/"
        },
        "id": "ptSwWDq2GvHb",
        "outputId": "46ed2856-8b12-4d78-ea25-e35289d52941"
      },
      "execution_count": null,
      "outputs": [
        {
          "output_type": "stream",
          "name": "stderr",
          "text": [
            "estimating size factors\n",
            "\n",
            "estimating dispersions\n",
            "\n",
            "gene-wise dispersion estimates\n",
            "\n",
            "mean-dispersion relationship\n",
            "\n",
            "final dispersion estimates\n",
            "\n",
            "fitting model and testing\n",
            "\n",
            "-- replacing outliers and refitting for 149 genes\n",
            "-- DESeq argument 'minReplicatesForReplace' = 7 \n",
            "-- original counts are preserved in counts(dds)\n",
            "\n",
            "estimating dispersions\n",
            "\n",
            "fitting model and testing\n",
            "\n"
          ]
        }
      ]
    },
    {
      "cell_type": "code",
      "source": [
        "res <- results(dds)\n",
        "res\n",
        "#baseMean: 모든 샘플의 normalized average\n",
        "#log2FoldChange: case vs control log2FoldChange (+)\n",
        "#lfeSE: log2FC standard error\n",
        "#stat: Wald test statistics\n",
        "#pvalue\n",
        "#padj: corrected pvalue (Benjamini-Hochberg (BH))"
      ],
      "metadata": {
        "colab": {
          "base_uri": "https://localhost:8080/",
          "height": 547
        },
        "id": "u4riByMuH6XL",
        "outputId": "4fb670f4-a5c4-4bfb-9466-787c624f665c"
      },
      "execution_count": null,
      "outputs": [
        {
          "output_type": "display_data",
          "data": {
            "text/plain": [
              "log2 fold change (MLE): group COVID19 vs Healthy \n",
              "Wald test p-value: group COVID19 vs Healthy \n",
              "DataFrame with 37107 rows and 6 columns\n",
              "                   baseMean log2FoldChange     lfcSE      stat      pvalue\n",
              "                  <numeric>      <numeric> <numeric> <numeric>   <numeric>\n",
              "ENSG00000227232    4.903704       2.342651  0.620281  3.776757 0.000158884\n",
              "ENSG00000278267    3.363780      -1.089085  0.385383 -2.825983 0.004713577\n",
              "ENSG00000233750    0.591105       0.306508  0.767120  0.399556 0.689483305\n",
              "ENSG00000268903   11.655757       0.762845  0.261644  2.915585 0.003550219\n",
              "ENSG00000269981    8.992562       0.529600  0.368955  1.435407 0.151171063\n",
              "...                     ...            ...       ...       ...         ...\n",
              "ENSG00000277856  586.998684      4.4542520  0.620738  7.175737 7.19186e-13\n",
              "ENSG00000275063 1504.770646      3.5975685  0.537403  6.694356 2.16623e-11\n",
              "ENSG00000271254   56.317794     -0.0804585  0.186943 -0.430390 6.66912e-01\n",
              "ENSG00000275405   11.395651     -0.0496962  0.370186 -0.134247 8.93208e-01\n",
              "ENSG00000277475    0.315633      1.3922127  1.272914  1.093721 2.74077e-01\n",
              "                       padj\n",
              "                  <numeric>\n",
              "ENSG00000227232  0.00149091\n",
              "ENSG00000278267  0.02203813\n",
              "ENSG00000233750  0.80013493\n",
              "ENSG00000268903  0.01772676\n",
              "ENSG00000269981  0.28312559\n",
              "...                     ...\n",
              "ENSG00000277856 7.02600e-11\n",
              "ENSG00000275063 1.64973e-09\n",
              "ENSG00000271254 7.82368e-01\n",
              "ENSG00000275405 9.37672e-01\n",
              "ENSG00000277475          NA"
            ]
          },
          "metadata": {}
        }
      ]
    },
    {
      "cell_type": "code",
      "source": [
        "summary(res)"
      ],
      "metadata": {
        "colab": {
          "base_uri": "https://localhost:8080/"
        },
        "id": "S6JftjcwKBKH",
        "outputId": "bf1306d5-e525-4540-9568-eb2ca06b1193"
      },
      "execution_count": null,
      "outputs": [
        {
          "output_type": "stream",
          "name": "stdout",
          "text": [
            "\n",
            "out of 37107 with nonzero total read count\n",
            "adjusted p-value < 0.1\n",
            "LFC > 0 (up)       : 8195, 22%\n",
            "LFC < 0 (down)     : 3625, 9.8%\n",
            "outliers [1]       : 0, 0%\n",
            "low counts [2]     : 3598, 9.7%\n",
            "(mean count < 0)\n",
            "[1] see 'cooksCutoff' argument of ?results\n",
            "[2] see 'independentFiltering' argument of ?results\n",
            "\n"
          ]
        }
      ]
    },
    {
      "cell_type": "code",
      "source": [
        "res_filt <- results(dds, alpha = 0.01, lfcThreshold = 0.5)\n",
        "summary(res_filt)"
      ],
      "metadata": {
        "colab": {
          "base_uri": "https://localhost:8080/"
        },
        "id": "fymNBU0dKzyw",
        "outputId": "751b9c3f-7b6e-4082-f840-7ace42ff1e20"
      },
      "execution_count": null,
      "outputs": [
        {
          "output_type": "stream",
          "name": "stdout",
          "text": [
            "\n",
            "out of 37107 with nonzero total read count\n",
            "adjusted p-value < 0.01\n",
            "LFC > 0.50 (up)    : 979, 2.6%\n",
            "LFC < -0.50 (down) : 32, 0.086%\n",
            "outliers [1]       : 0, 0%\n",
            "low counts [2]     : 7914, 21%\n",
            "(mean count < 1)\n",
            "[1] see 'cooksCutoff' argument of ?results\n",
            "[2] see 'independentFiltering' argument of ?results\n",
            "\n"
          ]
        }
      ]
    },
    {
      "cell_type": "code",
      "source": [
        "upregulated <- subset(res_filt, padj < 0.01 & log2FoldChange > 2)\n",
        "downregulated <- subset(res_filt, padj < 0.01 & log2FoldChange < -2)"
      ],
      "metadata": {
        "id": "ofvb2iV_OfdX"
      },
      "execution_count": null,
      "outputs": []
    },
    {
      "cell_type": "code",
      "source": [
        "upregulated\n",
        "downregulated"
      ],
      "metadata": {
        "colab": {
          "base_uri": "https://localhost:8080/",
          "height": 967
        },
        "id": "iZsEFnq4Ok9v",
        "outputId": "87ddb9ac-a602-4ac7-eefb-11e0ed0d81cb"
      },
      "execution_count": null,
      "outputs": [
        {
          "output_type": "display_data",
          "data": {
            "text/plain": [
              "log2 fold change (MLE): group COVID19 vs Healthy \n",
              "Wald test p-value: group COVID19 vs Healthy \n",
              "DataFrame with 732 rows and 6 columns\n",
              "                  baseMean log2FoldChange     lfcSE      stat      pvalue\n",
              "                 <numeric>      <numeric> <numeric> <numeric>   <numeric>\n",
              "ENSG00000237973  209.13417        2.61822  0.581976   4.49885 1.36516e-04\n",
              "ENSG00000142609    2.82141        2.71267  0.616928   4.39706 1.67606e-04\n",
              "ENSG00000078900   27.63962        2.14167  0.291138   7.35620 8.56190e-09\n",
              "ENSG00000235169   15.53300        2.71669  0.431366   6.29787 1.38279e-07\n",
              "ENSG00000234546    1.94495        3.02279  0.671623   4.50072 8.63155e-05\n",
              "...                    ...            ...       ...       ...         ...\n",
              "ENSG00000184809    1.36353        3.23566  0.748914   4.32046 1.29989e-04\n",
              "ENSG00000171587    2.66595        2.53939  0.597151   4.25250 3.18862e-04\n",
              "ENSG00000277836   53.50212        3.07759  0.580573   5.30095 4.50382e-06\n",
              "ENSG00000277856  586.99868        4.45425  0.620738   7.17574 9.43644e-11\n",
              "ENSG00000275063 1504.77065        3.59757  0.537403   6.69436 4.10825e-09\n",
              "                       padj\n",
              "                  <numeric>\n",
              "ENSG00000237973 4.72752e-03\n",
              "ENSG00000142609 5.51105e-03\n",
              "ENSG00000078900 8.99092e-07\n",
              "ENSG00000235169 1.16670e-05\n",
              "ENSG00000234546 3.24300e-03\n",
              "...                     ...\n",
              "ENSG00000184809 4.54464e-03\n",
              "ENSG00000171587 9.34591e-03\n",
              "ENSG00000277836 2.56797e-04\n",
              "ENSG00000277856 1.36375e-08\n",
              "ENSG00000275063 4.57756e-07"
            ]
          },
          "metadata": {}
        },
        {
          "output_type": "display_data",
          "data": {
            "text/plain": [
              "log2 fold change (MLE): group COVID19 vs Healthy \n",
              "Wald test p-value: group COVID19 vs Healthy \n",
              "DataFrame with 8 rows and 6 columns\n",
              "                 baseMean log2FoldChange     lfcSE      stat      pvalue\n",
              "                <numeric>      <numeric> <numeric> <numeric>   <numeric>\n",
              "ENSG00000163485  14.50618       -2.48691  0.464006  -5.35965 9.25793e-06\n",
              "ENSG00000144290  61.09591       -2.58054  0.398538  -6.47502 8.92519e-08\n",
              "ENSG00000226321  49.86269       -2.01022  0.401409  -5.00791 8.41787e-05\n",
              "ENSG00000204388 148.67583       -2.84501  0.521641  -5.45396 3.47130e-06\n",
              "ENSG00000287535  11.95918       -4.42146  1.027416  -4.30348 6.84255e-05\n",
              "ENSG00000236783   2.70274       -2.92883  0.552117  -5.30473 5.43476e-06\n",
              "ENSG00000101197   7.02526       -2.99561  0.669350  -4.47540 9.64338e-05\n",
              "ENSG00000154736  22.12201       -2.23535  0.411635  -5.43042 1.24476e-05\n",
              "                       padj\n",
              "                  <numeric>\n",
              "ENSG00000163485 4.84349e-04\n",
              "ENSG00000144290 7.73154e-06\n",
              "ENSG00000226321 3.18733e-03\n",
              "ENSG00000204388 2.04310e-04\n",
              "ENSG00000287535 2.70670e-03\n",
              "ENSG00000236783 3.05110e-04\n",
              "ENSG00000101197 3.55005e-03\n",
              "ENSG00000154736 6.27605e-04"
            ]
          },
          "metadata": {}
        }
      ]
    },
    {
      "cell_type": "code",
      "source": [
        "plotMA(res)\n",
        "plotMA(res_filt)"
      ],
      "metadata": {
        "colab": {
          "base_uri": "https://localhost:8080/",
          "height": 857
        },
        "id": "_eTwmRJdhGh6",
        "outputId": "0d49be3e-407e-4d2c-9641-e54d55e965fb"
      },
      "execution_count": null,
      "outputs": [
        {
          "output_type": "display_data",
          "data": {
            "text/plain": [
              "Plot with title “”"
            ],
            "image/png": "[encoded data removed]"
          },
          "metadata": {
            "image/png": {
              "width": 420,
              "height": 420
            }
          }
        },
        {
          "output_type": "display_data",
          "data": {
            "text/plain": [
              "Plot with title “”"
            ],
            "image/png": "[encoded data removed]"
          },
          "metadata": {
            "image/png": {
              "width": 420,
              "height": 420
            }
          }
        }
      ]
    },
    {
      "cell_type": "code",
      "source": [
        "res_filt"
      ],
      "metadata": {
        "colab": {
          "base_uri": "https://localhost:8080/",
          "height": 547
        },
        "id": "SXCx7SnBOH3A",
        "outputId": "20769206-cae2-4456-afb6-74617598938b"
      },
      "execution_count": null,
      "outputs": [
        {
          "output_type": "display_data",
          "data": {
            "text/plain": [
              "log2 fold change (MLE): group COVID19 vs Healthy \n",
              "Wald test p-value: group COVID19 vs Healthy \n",
              "DataFrame with 37107 rows and 6 columns\n",
              "                   baseMean log2FoldChange     lfcSE      stat      pvalue\n",
              "                  <numeric>      <numeric> <numeric> <numeric>   <numeric>\n",
              "ENSG00000227232    4.903704       2.342651  0.620281  3.776757  0.00148804\n",
              "ENSG00000278267    3.363780      -1.089085  0.385383 -2.825983  0.06320399\n",
              "ENSG00000233750    0.591105       0.306508  0.767120  0.399556  0.74611929\n",
              "ENSG00000268903   11.655757       0.762845  0.261644  2.915585  0.15754754\n",
              "ENSG00000269981    8.992562       0.529600  0.368955  1.435407  0.47065889\n",
              "...                     ...            ...       ...       ...         ...\n",
              "ENSG00000277856  586.998684      4.4542520  0.620738  7.175737 9.43644e-11\n",
              "ENSG00000275063 1504.770646      3.5975685  0.537403  6.694356 4.10825e-09\n",
              "ENSG00000271254   56.317794     -0.0804585  0.186943 -0.430390 9.88542e-01\n",
              "ENSG00000275405   11.395651     -0.0496962  0.370186 -0.134247 9.56871e-01\n",
              "ENSG00000277475    0.315633      1.3922127  1.272914  1.093721 3.10247e-01\n",
              "                       padj\n",
              "                  <numeric>\n",
              "ENSG00000227232    0.029856\n",
              "ENSG00000278267    0.383999\n",
              "ENSG00000233750          NA\n",
              "ENSG00000268903    0.686818\n",
              "ENSG00000269981    1.000000\n",
              "...                     ...\n",
              "ENSG00000277856 1.36375e-08\n",
              "ENSG00000275063 4.57756e-07\n",
              "ENSG00000271254 1.00000e+00\n",
              "ENSG00000275405 1.00000e+00\n",
              "ENSG00000277475          NA"
            ]
          },
          "metadata": {}
        }
      ]
    },
    {
      "cell_type": "markdown",
      "source": [
        "# **[4] Annotation**\n",
        "Ensembl ID를 Gene Symbol로 변환"
      ],
      "metadata": {
        "id": "ZHGcazfDTOpV"
      }
    },
    {
      "cell_type": "code",
      "source": [
        "listEnsembl()\n",
        "ensembl <- useEnsembl(biomart = \"genes\")\n",
        "searchDatasets(mart = ensembl, pattern = \"Human\")"
      ],
      "metadata": {
        "colab": {
          "base_uri": "https://localhost:8080/",
          "height": 372
        },
        "id": "GnDZy4ahCFh7",
        "outputId": "45b15442-e597-4129-c385-281a450092d0"
      },
      "execution_count": null,
      "outputs": [
        {
          "output_type": "display_data",
          "data": {
            "text/html": [
              "<table class=\"dataframe\">\n",
              "<caption>A data.frame: 4 × 2</caption>\n",
              "<thead>\n",
              "\t<tr><th scope=col>biomart</th><th scope=col>version</th></tr>\n",
              "\t<tr><th scope=col>&lt;chr&gt;</th><th scope=col>&lt;chr&gt;</th></tr>\n",
              "</thead>\n",
              "<tbody>\n",
              "\t<tr><td>genes        </td><td>Ensembl Genes 113     </td></tr>\n",
              "\t<tr><td>mouse_strains</td><td>Mouse strains 113     </td></tr>\n",
              "\t<tr><td>snps         </td><td>Ensembl Variation 113 </td></tr>\n",
              "\t<tr><td>regulation   </td><td>Ensembl Regulation 113</td></tr>\n",
              "</tbody>\n",
              "</table>\n"
            ],
            "text/markdown": "\nA data.frame: 4 × 2\n\n| biomart &lt;chr&gt; | version &lt;chr&gt; |\n|---|---|\n| genes         | Ensembl Genes 113      |\n| mouse_strains | Mouse strains 113      |\n| snps          | Ensembl Variation 113  |\n| regulation    | Ensembl Regulation 113 |\n\n",
            "text/latex": "A data.frame: 4 × 2\n\\begin{tabular}{ll}\n biomart & version\\\\\n <chr> & <chr>\\\\\n\\hline\n\t genes         & Ensembl Genes 113     \\\\\n\t mouse\\_strains & Mouse strains 113     \\\\\n\t snps          & Ensembl Variation 113 \\\\\n\t regulation    & Ensembl Regulation 113\\\\\n\\end{tabular}\n",
            "text/plain": [
              "  biomart       version               \n",
              "1 genes         Ensembl Genes 113     \n",
              "2 mouse_strains Mouse strains 113     \n",
              "3 snps          Ensembl Variation 113 \n",
              "4 regulation    Ensembl Regulation 113"
            ]
          },
          "metadata": {}
        },
        {
          "output_type": "stream",
          "name": "stderr",
          "text": [
            "Ensembl site unresponsive, trying useast mirror\n",
            "\n"
          ]
        },
        {
          "output_type": "display_data",
          "data": {
            "text/html": [
              "<table class=\"dataframe\">\n",
              "<caption>A data.frame: 1 × 3</caption>\n",
              "<thead>\n",
              "\t<tr><th></th><th scope=col>dataset</th><th scope=col>description</th><th scope=col>version</th></tr>\n",
              "\t<tr><th></th><th scope=col>&lt;I&lt;chr&gt;&gt;</th><th scope=col>&lt;I&lt;chr&gt;&gt;</th><th scope=col>&lt;I&lt;chr&gt;&gt;</th></tr>\n",
              "</thead>\n",
              "<tbody>\n",
              "\t<tr><th scope=row>80</th><td>hsapiens_gene_ensembl</td><td>Human genes (GRCh38.p14)</td><td>GRCh38.p14</td></tr>\n",
              "</tbody>\n",
              "</table>\n"
            ],
            "text/markdown": "\nA data.frame: 1 × 3\n\n| <!--/--> | dataset &lt;I&lt;chr&gt;&gt; | description &lt;I&lt;chr&gt;&gt; | version &lt;I&lt;chr&gt;&gt; |\n|---|---|---|---|\n| 80 | hsapiens_gene_ensembl | Human genes (GRCh38.p14) | GRCh38.p14 |\n\n",
            "text/latex": "A data.frame: 1 × 3\n\\begin{tabular}{r|lll}\n  & dataset & description & version\\\\\n  & <I<chr>> & <I<chr>> & <I<chr>>\\\\\n\\hline\n\t80 & hsapiens\\_gene\\_ensembl & Human genes (GRCh38.p14) & GRCh38.p14\\\\\n\\end{tabular}\n",
            "text/plain": [
              "   dataset               description              version   \n",
              "80 hsapiens_gene_ensembl Human genes (GRCh38.p14) GRCh38.p14"
            ]
          },
          "metadata": {}
        }
      ]
    },
    {
      "cell_type": "code",
      "source": [
        "ensembl <- useEnsembl(biomart = 'genes',\n",
        "                      dataset = 'hsapiens_gene_ensembl')"
      ],
      "metadata": {
        "colab": {
          "base_uri": "https://localhost:8080/"
        },
        "id": "ImiR3Xnqhaoe",
        "outputId": "5b04a225-9b95-4e6b-93a1-410fc5c14083"
      },
      "execution_count": null,
      "outputs": [
        {
          "output_type": "stream",
          "name": "stderr",
          "text": [
            "Ensembl site unresponsive, trying useast mirror\n",
            "\n"
          ]
        }
      ]
    },
    {
      "cell_type": "code",
      "source": [
        "ensembl_attributes <- listAttributes(ensembl)\n",
        "head(ensembl_attributes, 20)"
      ],
      "metadata": {
        "colab": {
          "base_uri": "https://localhost:8080/",
          "height": 725
        },
        "id": "TCMRtzZ-NZxZ",
        "outputId": "ac6064e8-a8d1-40d2-bd0e-34349e6fca44"
      },
      "execution_count": null,
      "outputs": [
        {
          "output_type": "display_data",
          "data": {
            "text/html": [
              "<table class=\"dataframe\">\n",
              "<caption>A data.frame: 20 × 3</caption>\n",
              "<thead>\n",
              "\t<tr><th></th><th scope=col>name</th><th scope=col>description</th><th scope=col>page</th></tr>\n",
              "\t<tr><th></th><th scope=col>&lt;chr&gt;</th><th scope=col>&lt;chr&gt;</th><th scope=col>&lt;chr&gt;</th></tr>\n",
              "</thead>\n",
              "<tbody>\n",
              "\t<tr><th scope=row>1</th><td>ensembl_gene_id              </td><td>Gene stable ID                            </td><td>feature_page</td></tr>\n",
              "\t<tr><th scope=row>2</th><td>ensembl_gene_id_version      </td><td>Gene stable ID version                    </td><td>feature_page</td></tr>\n",
              "\t<tr><th scope=row>3</th><td>ensembl_transcript_id        </td><td>Transcript stable ID                      </td><td>feature_page</td></tr>\n",
              "\t<tr><th scope=row>4</th><td>ensembl_transcript_id_version</td><td>Transcript stable ID version              </td><td>feature_page</td></tr>\n",
              "\t<tr><th scope=row>5</th><td>ensembl_peptide_id           </td><td>Protein stable ID                         </td><td>feature_page</td></tr>\n",
              "\t<tr><th scope=row>6</th><td>ensembl_peptide_id_version   </td><td>Protein stable ID version                 </td><td>feature_page</td></tr>\n",
              "\t<tr><th scope=row>7</th><td>ensembl_exon_id              </td><td>Exon stable ID                            </td><td>feature_page</td></tr>\n",
              "\t<tr><th scope=row>8</th><td>description                  </td><td>Gene description                          </td><td>feature_page</td></tr>\n",
              "\t<tr><th scope=row>9</th><td>chromosome_name              </td><td>Chromosome/scaffold name                  </td><td>feature_page</td></tr>\n",
              "\t<tr><th scope=row>10</th><td>start_position               </td><td>Gene start (bp)                           </td><td>feature_page</td></tr>\n",
              "\t<tr><th scope=row>11</th><td>end_position                 </td><td>Gene end (bp)                             </td><td>feature_page</td></tr>\n",
              "\t<tr><th scope=row>12</th><td>strand                       </td><td>Strand                                    </td><td>feature_page</td></tr>\n",
              "\t<tr><th scope=row>13</th><td>band                         </td><td>Karyotype band                            </td><td>feature_page</td></tr>\n",
              "\t<tr><th scope=row>14</th><td>transcript_start             </td><td>Transcript start (bp)                     </td><td>feature_page</td></tr>\n",
              "\t<tr><th scope=row>15</th><td>transcript_end               </td><td>Transcript end (bp)                       </td><td>feature_page</td></tr>\n",
              "\t<tr><th scope=row>16</th><td>transcription_start_site     </td><td>Transcription start site (TSS)            </td><td>feature_page</td></tr>\n",
              "\t<tr><th scope=row>17</th><td>transcript_length            </td><td>Transcript length (including UTRs and CDS)</td><td>feature_page</td></tr>\n",
              "\t<tr><th scope=row>18</th><td>transcript_tsl               </td><td>Transcript support level (TSL)            </td><td>feature_page</td></tr>\n",
              "\t<tr><th scope=row>19</th><td>transcript_gencode_basic     </td><td>GENCODE basic annotation                  </td><td>feature_page</td></tr>\n",
              "\t<tr><th scope=row>20</th><td>transcript_primary_basic     </td><td>GENCODE primary annotation                </td><td>feature_page</td></tr>\n",
              "</tbody>\n",
              "</table>\n"
            ],
            "text/markdown": "\nA data.frame: 20 × 3\n\n| <!--/--> | name &lt;chr&gt; | description &lt;chr&gt; | page &lt;chr&gt; |\n|---|---|---|---|\n| 1 | ensembl_gene_id               | Gene stable ID                             | feature_page |\n| 2 | ensembl_gene_id_version       | Gene stable ID version                     | feature_page |\n| 3 | ensembl_transcript_id         | Transcript stable ID                       | feature_page |\n| 4 | ensembl_transcript_id_version | Transcript stable ID version               | feature_page |\n| 5 | ensembl_peptide_id            | Protein stable ID                          | feature_page |\n| 6 | ensembl_peptide_id_version    | Protein stable ID version                  | feature_page |\n| 7 | ensembl_exon_id               | Exon stable ID                             | feature_page |\n| 8 | description                   | Gene description                           | feature_page |\n| 9 | chromosome_name               | Chromosome/scaffold name                   | feature_page |\n| 10 | start_position                | Gene start (bp)                            | feature_page |\n| 11 | end_position                  | Gene end (bp)                              | feature_page |\n| 12 | strand                        | Strand                                     | feature_page |\n| 13 | band                          | Karyotype band                             | feature_page |\n| 14 | transcript_start              | Transcript start (bp)                      | feature_page |\n| 15 | transcript_end                | Transcript end (bp)                        | feature_page |\n| 16 | transcription_start_site      | Transcription start site (TSS)             | feature_page |\n| 17 | transcript_length             | Transcript length (including UTRs and CDS) | feature_page |\n| 18 | transcript_tsl                | Transcript support level (TSL)             | feature_page |\n| 19 | transcript_gencode_basic      | GENCODE basic annotation                   | feature_page |\n| 20 | transcript_primary_basic      | GENCODE primary annotation                 | feature_page |\n\n",
            "text/latex": "A data.frame: 20 × 3\n\\begin{tabular}{r|lll}\n  & name & description & page\\\\\n  & <chr> & <chr> & <chr>\\\\\n\\hline\n\t1 & ensembl\\_gene\\_id               & Gene stable ID                             & feature\\_page\\\\\n\t2 & ensembl\\_gene\\_id\\_version       & Gene stable ID version                     & feature\\_page\\\\\n\t3 & ensembl\\_transcript\\_id         & Transcript stable ID                       & feature\\_page\\\\\n\t4 & ensembl\\_transcript\\_id\\_version & Transcript stable ID version               & feature\\_page\\\\\n\t5 & ensembl\\_peptide\\_id            & Protein stable ID                          & feature\\_page\\\\\n\t6 & ensembl\\_peptide\\_id\\_version    & Protein stable ID version                  & feature\\_page\\\\\n\t7 & ensembl\\_exon\\_id               & Exon stable ID                             & feature\\_page\\\\\n\t8 & description                   & Gene description                           & feature\\_page\\\\\n\t9 & chromosome\\_name               & Chromosome/scaffold name                   & feature\\_page\\\\\n\t10 & start\\_position                & Gene start (bp)                            & feature\\_page\\\\\n\t11 & end\\_position                  & Gene end (bp)                              & feature\\_page\\\\\n\t12 & strand                        & Strand                                     & feature\\_page\\\\\n\t13 & band                          & Karyotype band                             & feature\\_page\\\\\n\t14 & transcript\\_start              & Transcript start (bp)                      & feature\\_page\\\\\n\t15 & transcript\\_end                & Transcript end (bp)                        & feature\\_page\\\\\n\t16 & transcription\\_start\\_site      & Transcription start site (TSS)             & feature\\_page\\\\\n\t17 & transcript\\_length             & Transcript length (including UTRs and CDS) & feature\\_page\\\\\n\t18 & transcript\\_tsl                & Transcript support level (TSL)             & feature\\_page\\\\\n\t19 & transcript\\_gencode\\_basic      & GENCODE basic annotation                   & feature\\_page\\\\\n\t20 & transcript\\_primary\\_basic      & GENCODE primary annotation                 & feature\\_page\\\\\n\\end{tabular}\n",
            "text/plain": [
              "   name                          description                               \n",
              "1  ensembl_gene_id               Gene stable ID                            \n",
              "2  ensembl_gene_id_version       Gene stable ID version                    \n",
              "3  ensembl_transcript_id         Transcript stable ID                      \n",
              "4  ensembl_transcript_id_version Transcript stable ID version              \n",
              "5  ensembl_peptide_id            Protein stable ID                         \n",
              "6  ensembl_peptide_id_version    Protein stable ID version                 \n",
              "7  ensembl_exon_id               Exon stable ID                            \n",
              "8  description                   Gene description                          \n",
              "9  chromosome_name               Chromosome/scaffold name                  \n",
              "10 start_position                Gene start (bp)                           \n",
              "11 end_position                  Gene end (bp)                             \n",
              "12 strand                        Strand                                    \n",
              "13 band                          Karyotype band                            \n",
              "14 transcript_start              Transcript start (bp)                     \n",
              "15 transcript_end                Transcript end (bp)                       \n",
              "16 transcription_start_site      Transcription start site (TSS)            \n",
              "17 transcript_length             Transcript length (including UTRs and CDS)\n",
              "18 transcript_tsl                Transcript support level (TSL)            \n",
              "19 transcript_gencode_basic      GENCODE basic annotation                  \n",
              "20 transcript_primary_basic      GENCODE primary annotation                \n",
              "   page        \n",
              "1  feature_page\n",
              "2  feature_page\n",
              "3  feature_page\n",
              "4  feature_page\n",
              "5  feature_page\n",
              "6  feature_page\n",
              "7  feature_page\n",
              "8  feature_page\n",
              "9  feature_page\n",
              "10 feature_page\n",
              "11 feature_page\n",
              "12 feature_page\n",
              "13 feature_page\n",
              "14 feature_page\n",
              "15 feature_page\n",
              "16 feature_page\n",
              "17 feature_page\n",
              "18 feature_page\n",
              "19 feature_page\n",
              "20 feature_page"
            ]
          },
          "metadata": {}
        }
      ]
    },
    {
      "cell_type": "code",
      "source": [
        "up_annot <- getBM(attributes= c(\"ensembl_gene_id\", \"external_gene_name\"),\n",
        "               filters = \"ensembl_gene_id\",\n",
        "               values = rownames(upregulated),\n",
        "               mart = ensembl)\n",
        "head(up_annot)"
      ],
      "metadata": {
        "colab": {
          "base_uri": "https://localhost:8080/",
          "height": 286
        },
        "id": "bt6ehPoINurJ",
        "outputId": "ffedd4e9-c064-4176-d701-64afda5041c5"
      },
      "execution_count": null,
      "outputs": [
        {
          "output_type": "display_data",
          "data": {
            "text/html": [
              "<table class=\"dataframe\">\n",
              "<caption>A data.frame: 6 × 2</caption>\n",
              "<thead>\n",
              "\t<tr><th></th><th scope=col>ensembl_gene_id</th><th scope=col>external_gene_name</th></tr>\n",
              "\t<tr><th></th><th scope=col>&lt;chr&gt;</th><th scope=col>&lt;chr&gt;</th></tr>\n",
              "</thead>\n",
              "<tbody>\n",
              "\t<tr><th scope=row>1</th><td>ENSG00000002079</td><td>MYH16    </td></tr>\n",
              "\t<tr><th scope=row>2</th><td>ENSG00000003436</td><td>TFPI     </td></tr>\n",
              "\t<tr><th scope=row>3</th><td>ENSG00000004939</td><td>SLC4A1   </td></tr>\n",
              "\t<tr><th scope=row>4</th><td>ENSG00000005961</td><td>ITGA2B   </td></tr>\n",
              "\t<tr><th scope=row>5</th><td>ENSG00000006327</td><td>TNFRSF12A</td></tr>\n",
              "\t<tr><th scope=row>6</th><td>ENSG00000007062</td><td>PROM1    </td></tr>\n",
              "</tbody>\n",
              "</table>\n"
            ],
            "text/markdown": "\nA data.frame: 6 × 2\n\n| <!--/--> | ensembl_gene_id &lt;chr&gt; | external_gene_name &lt;chr&gt; |\n|---|---|---|\n| 1 | ENSG00000002079 | MYH16     |\n| 2 | ENSG00000003436 | TFPI      |\n| 3 | ENSG00000004939 | SLC4A1    |\n| 4 | ENSG00000005961 | ITGA2B    |\n| 5 | ENSG00000006327 | TNFRSF12A |\n| 6 | ENSG00000007062 | PROM1     |\n\n",
            "text/latex": "A data.frame: 6 × 2\n\\begin{tabular}{r|ll}\n  & ensembl\\_gene\\_id & external\\_gene\\_name\\\\\n  & <chr> & <chr>\\\\\n\\hline\n\t1 & ENSG00000002079 & MYH16    \\\\\n\t2 & ENSG00000003436 & TFPI     \\\\\n\t3 & ENSG00000004939 & SLC4A1   \\\\\n\t4 & ENSG00000005961 & ITGA2B   \\\\\n\t5 & ENSG00000006327 & TNFRSF12A\\\\\n\t6 & ENSG00000007062 & PROM1    \\\\\n\\end{tabular}\n",
            "text/plain": [
              "  ensembl_gene_id external_gene_name\n",
              "1 ENSG00000002079 MYH16             \n",
              "2 ENSG00000003436 TFPI              \n",
              "3 ENSG00000004939 SLC4A1            \n",
              "4 ENSG00000005961 ITGA2B            \n",
              "5 ENSG00000006327 TNFRSF12A         \n",
              "6 ENSG00000007062 PROM1             "
            ]
          },
          "metadata": {}
        }
      ]
    },
    {
      "cell_type": "code",
      "source": [
        "down_annot <- getBM(attributes= c(\"ensembl_gene_id\", \"external_gene_name\"),\n",
        "               filters = \"ensembl_gene_id\",\n",
        "               values = rownames(downregulated),\n",
        "               mart = ensembl)\n",
        "head(down_annot)"
      ],
      "metadata": {
        "colab": {
          "base_uri": "https://localhost:8080/",
          "height": 286
        },
        "id": "ePALduM3Oy5U",
        "outputId": "1dd02023-dc6b-457d-bd63-5b505d37ebff"
      },
      "execution_count": null,
      "outputs": [
        {
          "output_type": "display_data",
          "data": {
            "text/html": [
              "<table class=\"dataframe\">\n",
              "<caption>A data.frame: 6 × 2</caption>\n",
              "<thead>\n",
              "\t<tr><th></th><th scope=col>ensembl_gene_id</th><th scope=col>external_gene_name</th></tr>\n",
              "\t<tr><th></th><th scope=col>&lt;chr&gt;</th><th scope=col>&lt;chr&gt;</th></tr>\n",
              "</thead>\n",
              "<tbody>\n",
              "\t<tr><th scope=row>1</th><td>ENSG00000101197</td><td>BIRC7  </td></tr>\n",
              "\t<tr><th scope=row>2</th><td>ENSG00000144290</td><td>SLC4A10</td></tr>\n",
              "\t<tr><th scope=row>3</th><td>ENSG00000154736</td><td>ADAMTS5</td></tr>\n",
              "\t<tr><th scope=row>4</th><td>ENSG00000163485</td><td>ADORA1 </td></tr>\n",
              "\t<tr><th scope=row>5</th><td>ENSG00000204388</td><td>HSPA1B </td></tr>\n",
              "\t<tr><th scope=row>6</th><td>ENSG00000226321</td><td>CROCC2 </td></tr>\n",
              "</tbody>\n",
              "</table>\n"
            ],
            "text/markdown": "\nA data.frame: 6 × 2\n\n| <!--/--> | ensembl_gene_id &lt;chr&gt; | external_gene_name &lt;chr&gt; |\n|---|---|---|\n| 1 | ENSG00000101197 | BIRC7   |\n| 2 | ENSG00000144290 | SLC4A10 |\n| 3 | ENSG00000154736 | ADAMTS5 |\n| 4 | ENSG00000163485 | ADORA1  |\n| 5 | ENSG00000204388 | HSPA1B  |\n| 6 | ENSG00000226321 | CROCC2  |\n\n",
            "text/latex": "A data.frame: 6 × 2\n\\begin{tabular}{r|ll}\n  & ensembl\\_gene\\_id & external\\_gene\\_name\\\\\n  & <chr> & <chr>\\\\\n\\hline\n\t1 & ENSG00000101197 & BIRC7  \\\\\n\t2 & ENSG00000144290 & SLC4A10\\\\\n\t3 & ENSG00000154736 & ADAMTS5\\\\\n\t4 & ENSG00000163485 & ADORA1 \\\\\n\t5 & ENSG00000204388 & HSPA1B \\\\\n\t6 & ENSG00000226321 & CROCC2 \\\\\n\\end{tabular}\n",
            "text/plain": [
              "  ensembl_gene_id external_gene_name\n",
              "1 ENSG00000101197 BIRC7             \n",
              "2 ENSG00000144290 SLC4A10           \n",
              "3 ENSG00000154736 ADAMTS5           \n",
              "4 ENSG00000163485 ADORA1            \n",
              "5 ENSG00000204388 HSPA1B            \n",
              "6 ENSG00000226321 CROCC2            "
            ]
          },
          "metadata": {}
        }
      ]
    },
    {
      "cell_type": "code",
      "source": [
        "write.csv(down_annot$external_gene_name, file = 'down.txt', sep = '\\t', row.names = F, col.names = F)\n",
        "write.csv(up_annot$external_gene_name, file = 'up.txt', sep = '\\t', row.names = F, col.names = F)"
      ],
      "metadata": {
        "colab": {
          "base_uri": "https://localhost:8080/"
        },
        "id": "Cw0jxNA7O0Rb",
        "outputId": "d53b2690-ee44-410d-bdce-2cf0c1fe75e3"
      },
      "execution_count": null,
      "outputs": [
        {
          "output_type": "stream",
          "name": "stderr",
          "text": [
            "Warning message in write.csv(down_annot$external_gene_name, file = \"down.txt\", sep = \"\\t\", :\n",
            "“attempt to set 'col.names' ignored”\n",
            "Warning message in write.csv(down_annot$external_gene_name, file = \"down.txt\", sep = \"\\t\", :\n",
            "“attempt to set 'sep' ignored”\n",
            "Warning message in write.csv(up_annot$external_gene_name, file = \"up.txt\", sep = \"\\t\", :\n",
            "“attempt to set 'col.names' ignored”\n",
            "Warning message in write.csv(up_annot$external_gene_name, file = \"up.txt\", sep = \"\\t\", :\n",
            "“attempt to set 'sep' ignored”\n"
          ]
        }
      ]
    }
  ]
}